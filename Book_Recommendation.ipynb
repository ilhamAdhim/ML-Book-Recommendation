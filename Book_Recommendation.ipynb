{
  "nbformat": 4,
  "nbformat_minor": 0,
  "metadata": {
    "colab": {
      "name": "Book Recommendation.ipynb",
      "provenance": [],
      "collapsed_sections": [],
      "toc_visible": true,
      "authorship_tag": "ABX9TyMvHzJaGIDj02u78nI/p5i6",
      "include_colab_link": true
    },
    "kernelspec": {
      "name": "python3",
      "display_name": "Python 3"
    },
    "language_info": {
      "name": "python"
    }
  },
  "cells": [
    {
      "cell_type": "markdown",
      "metadata": {
        "id": "view-in-github",
        "colab_type": "text"
      },
      "source": [
        "<a href=\"https://colab.research.google.com/github/ilhamAdhim/ML-Book-Recommendation/blob/master/Book_Recommendation.ipynb\" target=\"_parent\"><img src=\"https://colab.research.google.com/assets/colab-badge.svg\" alt=\"Open In Colab\"/></a>"
      ]
    },
    {
      "cell_type": "markdown",
      "metadata": {
        "id": "ySBH6cPOZlXS"
      },
      "source": [
        "# Business Understanding"
      ]
    },
    {
      "cell_type": "code",
      "metadata": {
        "id": "4X6tGH5T1xRI"
      },
      "source": [
        ""
      ],
      "execution_count": 604,
      "outputs": []
    },
    {
      "cell_type": "markdown",
      "metadata": {
        "id": "4Q29BFvmZlC_"
      },
      "source": [
        ""
      ]
    },
    {
      "cell_type": "code",
      "metadata": {
        "colab": {
          "base_uri": "https://localhost:8080/"
        },
        "id": "RmSPQUvG8X1j",
        "outputId": "196de0b7-c1d4-4b5b-ca77-f8acbb95789b"
      },
      "source": [
        "!pip install opendatasets"
      ],
      "execution_count": 605,
      "outputs": [
        {
          "output_type": "stream",
          "name": "stdout",
          "text": [
            "Requirement already satisfied: opendatasets in /usr/local/lib/python3.7/dist-packages (0.1.20)\n",
            "Requirement already satisfied: tqdm in /usr/local/lib/python3.7/dist-packages (from opendatasets) (4.62.3)\n",
            "Requirement already satisfied: click in /usr/local/lib/python3.7/dist-packages (from opendatasets) (7.1.2)\n",
            "Requirement already satisfied: kaggle in /usr/local/lib/python3.7/dist-packages (from opendatasets) (1.5.12)\n",
            "Requirement already satisfied: urllib3 in /usr/local/lib/python3.7/dist-packages (from kaggle->opendatasets) (1.24.3)\n",
            "Requirement already satisfied: python-dateutil in /usr/local/lib/python3.7/dist-packages (from kaggle->opendatasets) (2.8.2)\n",
            "Requirement already satisfied: certifi in /usr/local/lib/python3.7/dist-packages (from kaggle->opendatasets) (2021.10.8)\n",
            "Requirement already satisfied: six>=1.10 in /usr/local/lib/python3.7/dist-packages (from kaggle->opendatasets) (1.15.0)\n",
            "Requirement already satisfied: python-slugify in /usr/local/lib/python3.7/dist-packages (from kaggle->opendatasets) (5.0.2)\n",
            "Requirement already satisfied: requests in /usr/local/lib/python3.7/dist-packages (from kaggle->opendatasets) (2.23.0)\n",
            "Requirement already satisfied: text-unidecode>=1.3 in /usr/local/lib/python3.7/dist-packages (from python-slugify->kaggle->opendatasets) (1.3)\n",
            "Requirement already satisfied: chardet<4,>=3.0.2 in /usr/local/lib/python3.7/dist-packages (from requests->kaggle->opendatasets) (3.0.4)\n",
            "Requirement already satisfied: idna<3,>=2.5 in /usr/local/lib/python3.7/dist-packages (from requests->kaggle->opendatasets) (2.10)\n"
          ]
        }
      ]
    },
    {
      "cell_type": "code",
      "metadata": {
        "id": "s4Ne9i6Q8iJi"
      },
      "source": [
        "import numpy as np\n",
        "import matplotlib.pyplot as plt\n",
        "import pandas as pd\n",
        "%matplotlib inline\n",
        "import seaborn as sns\n",
        "import tensorflow as tf\n",
        "\n",
        "from scipy.sparse import csr_matrix\n",
        "from sklearn.metrics.pairwise import cosine_similarity\n",
        "\n",
        "\n",
        "# Importing layers from keras. Use LSTM for input layer, and Dense for hidden and output layer\n",
        "from keras.layers import Dense, LSTM, Dropout\n",
        "from keras.models import Sequential\n",
        "\n",
        "# Import Adam Optimizers\n",
        "from tensorflow.keras.optimizers import Adam\n",
        "\n",
        "# Import for splitting test and training data set\n",
        "from sklearn.preprocessing import MinMaxScaler\n",
        "from sklearn.model_selection import train_test_split\n",
        "from keras.callbacks import  EarlyStopping\n",
        "\n",
        "import opendatasets as od"
      ],
      "execution_count": 606,
      "outputs": []
    },
    {
      "cell_type": "code",
      "metadata": {
        "colab": {
          "base_uri": "https://localhost:8080/"
        },
        "id": "YniPSQiE83Jd",
        "outputId": "69c4782c-dc60-4ead-8bfb-bff06c5e704b"
      },
      "source": [
        "od.download(\"https://www.kaggle.com/justinnguyen0x0x/best-books-of-the-21st-century-dataset\")"
      ],
      "execution_count": 607,
      "outputs": [
        {
          "output_type": "stream",
          "name": "stdout",
          "text": [
            "Skipping, found downloaded files in \"./best-books-of-the-21st-century-dataset\" (use force=True to force download)\n"
          ]
        }
      ]
    },
    {
      "cell_type": "code",
      "metadata": {
        "colab": {
          "base_uri": "https://localhost:8080/",
          "height": 1000
        },
        "id": "Nnir1b4i9KGO",
        "outputId": "16cc7978-95d7-4a87-f562-b8ba6d10d87e"
      },
      "source": [
        "df_book_list = pd.read_csv('/content/best-books-of-the-21st-century-dataset/Best_Book_21st.csv', parse_dates=True, squeeze=True)\n",
        "df_book_list"
      ],
      "execution_count": 608,
      "outputs": [
        {
          "output_type": "execute_result",
          "data": {
            "text/html": [
              "<div>\n",
              "<style scoped>\n",
              "    .dataframe tbody tr th:only-of-type {\n",
              "        vertical-align: middle;\n",
              "    }\n",
              "\n",
              "    .dataframe tbody tr th {\n",
              "        vertical-align: top;\n",
              "    }\n",
              "\n",
              "    .dataframe thead th {\n",
              "        text-align: right;\n",
              "    }\n",
              "</style>\n",
              "<table border=\"1\" class=\"dataframe\">\n",
              "  <thead>\n",
              "    <tr style=\"text-align: right;\">\n",
              "      <th></th>\n",
              "      <th>id</th>\n",
              "      <th>title</th>\n",
              "      <th>series</th>\n",
              "      <th>author</th>\n",
              "      <th>book_link</th>\n",
              "      <th>genre</th>\n",
              "      <th>date_published</th>\n",
              "      <th>publisher</th>\n",
              "      <th>num_of_page</th>\n",
              "      <th>lang</th>\n",
              "      <th>review_count</th>\n",
              "      <th>rating_count</th>\n",
              "      <th>rate</th>\n",
              "      <th>award</th>\n",
              "    </tr>\n",
              "  </thead>\n",
              "  <tbody>\n",
              "    <tr>\n",
              "      <th>0</th>\n",
              "      <td>0</td>\n",
              "      <td>The Martian</td>\n",
              "      <td>\\n        (The Martian #1)\\n</td>\n",
              "      <td>Andy Weir</td>\n",
              "      <td>https://www.goodreads.com/book/show/18007564-t...</td>\n",
              "      <td>Science Fiction,Fiction,Audiobook,Adventure,Sp...</td>\n",
              "      <td>February 11th 2014</td>\n",
              "      <td>Crown\\n\\n            ,</td>\n",
              "      <td>384.0</td>\n",
              "      <td>English</td>\n",
              "      <td>77,156</td>\n",
              "      <td>919,781</td>\n",
              "      <td>4.40</td>\n",
              "      <td>Kurd-Laßwitz-Preis for Bestes ausländisches We...</td>\n",
              "    </tr>\n",
              "    <tr>\n",
              "      <th>1</th>\n",
              "      <td>1</td>\n",
              "      <td>Under the Banner of Heaven: A Story of Violent...</td>\n",
              "      <td>NaN</td>\n",
              "      <td>Jon Krakauer</td>\n",
              "      <td>https://www.goodreads.com/book/show/10847.Unde...</td>\n",
              "      <td>Nonfiction,Religion,History,Crime,True Crime,M...</td>\n",
              "      <td>2004</td>\n",
              "      <td>Pan MacMillan\\n\\n            ,</td>\n",
              "      <td>400.0</td>\n",
              "      <td>English</td>\n",
              "      <td>10,981</td>\n",
              "      <td>173,895</td>\n",
              "      <td>3.98</td>\n",
              "      <td>Colorado Book Award for General Nonfiction (2004)</td>\n",
              "    </tr>\n",
              "    <tr>\n",
              "      <th>2</th>\n",
              "      <td>2</td>\n",
              "      <td>Cutting for Stone</td>\n",
              "      <td>NaN</td>\n",
              "      <td>Abraham   Verghese</td>\n",
              "      <td>https://www.goodreads.com/book/show/3591262-cu...</td>\n",
              "      <td>Fiction,Historical,Historical Fiction,Cultural...</td>\n",
              "      <td>February 3rd 2009</td>\n",
              "      <td>Alfred A. Knopf\\n\\n            ,</td>\n",
              "      <td>541.0</td>\n",
              "      <td>English</td>\n",
              "      <td>26,253</td>\n",
              "      <td>353,365</td>\n",
              "      <td>4.29</td>\n",
              "      <td>PEN/Hemingway Foundation Award Nominee (2010),...</td>\n",
              "    </tr>\n",
              "    <tr>\n",
              "      <th>3</th>\n",
              "      <td>3</td>\n",
              "      <td>We Need to Talk About Kevin</td>\n",
              "      <td>NaN</td>\n",
              "      <td>Lionel Shriver</td>\n",
              "      <td>https://www.goodreads.com/book/show/80660.We_N...</td>\n",
              "      <td>Fiction,Contemporary,Thriller,Horror,Mystery,C...</td>\n",
              "      <td>July 3rd 2006</td>\n",
              "      <td>Harper Perennial\\n\\n            ,</td>\n",
              "      <td>400.0</td>\n",
              "      <td>English</td>\n",
              "      <td>14,787</td>\n",
              "      <td>187,639</td>\n",
              "      <td>4.04</td>\n",
              "      <td>Orange Prize for Fiction (2005)</td>\n",
              "    </tr>\n",
              "    <tr>\n",
              "      <th>4</th>\n",
              "      <td>4</td>\n",
              "      <td>The Immortal Life of Henrietta Lacks</td>\n",
              "      <td>NaN</td>\n",
              "      <td>Rebecca Skloot</td>\n",
              "      <td>https://www.goodreads.com/book/show/6493208-th...</td>\n",
              "      <td>Nonfiction,Science,History,Biography,Health,Me...</td>\n",
              "      <td>February 2nd 2010</td>\n",
              "      <td>Crown Publishing Group\\n\\n            ,</td>\n",
              "      <td>370.0</td>\n",
              "      <td>English</td>\n",
              "      <td>36,574</td>\n",
              "      <td>646,155</td>\n",
              "      <td>4.07</td>\n",
              "      <td>Ambassador Book Award for American Studies (20...</td>\n",
              "    </tr>\n",
              "    <tr>\n",
              "      <th>...</th>\n",
              "      <td>...</td>\n",
              "      <td>...</td>\n",
              "      <td>...</td>\n",
              "      <td>...</td>\n",
              "      <td>...</td>\n",
              "      <td>...</td>\n",
              "      <td>...</td>\n",
              "      <td>...</td>\n",
              "      <td>...</td>\n",
              "      <td>...</td>\n",
              "      <td>...</td>\n",
              "      <td>...</td>\n",
              "      <td>...</td>\n",
              "      <td>...</td>\n",
              "    </tr>\n",
              "    <tr>\n",
              "      <th>10013</th>\n",
              "      <td>10013</td>\n",
              "      <td>Edge of Passion (Stealth Guardians, #1)</td>\n",
              "      <td>\\n        (Stealth Guardians #1)\\n</td>\n",
              "      <td>Tina Folsom</td>\n",
              "      <td>https://www.goodreads.com/book/show/13516444-e...</td>\n",
              "      <td>Fantasy,Paranormal,Romance,Romance,Paranormal ...</td>\n",
              "      <td>March 7th 2012</td>\n",
              "      <td>NaN</td>\n",
              "      <td>NaN</td>\n",
              "      <td>English</td>\n",
              "      <td>102</td>\n",
              "      <td>1,011</td>\n",
              "      <td>4.01</td>\n",
              "      <td>NaN</td>\n",
              "    </tr>\n",
              "    <tr>\n",
              "      <th>10014</th>\n",
              "      <td>10014</td>\n",
              "      <td>Tales from a Not-So-Popular Party Girl (Dork D...</td>\n",
              "      <td>\\n        (Dork Diaries #2)\\n</td>\n",
              "      <td>Rachel Renée Russell</td>\n",
              "      <td>https://www.goodreads.com/book/show/8274537-ta...</td>\n",
              "      <td>Childrens,Middle Grade,Realistic Fiction,Child...</td>\n",
              "      <td>June 8th 2010</td>\n",
              "      <td>Aladdin</td>\n",
              "      <td>288.0</td>\n",
              "      <td>English</td>\n",
              "      <td>1,480</td>\n",
              "      <td>54,285</td>\n",
              "      <td>4.24</td>\n",
              "      <td>NaN</td>\n",
              "    </tr>\n",
              "    <tr>\n",
              "      <th>10015</th>\n",
              "      <td>10015</td>\n",
              "      <td>Bottoms</td>\n",
              "      <td>NaN</td>\n",
              "      <td>Tanja Kirschner</td>\n",
              "      <td>https://www.goodreads.com/book/show/2024071.Bo...</td>\n",
              "      <td>NaN</td>\n",
              "      <td>September 1st 2005</td>\n",
              "      <td>NorthSouth\\n\\n            ,</td>\n",
              "      <td>24.0</td>\n",
              "      <td>English</td>\n",
              "      <td>5</td>\n",
              "      <td>11</td>\n",
              "      <td>3.55</td>\n",
              "      <td>NaN</td>\n",
              "    </tr>\n",
              "    <tr>\n",
              "      <th>10016</th>\n",
              "      <td>10016</td>\n",
              "      <td>The Wedding Dress</td>\n",
              "      <td>NaN</td>\n",
              "      <td>Gary E. Parker</td>\n",
              "      <td>https://www.goodreads.com/book/show/783968.The...</td>\n",
              "      <td>NaN</td>\n",
              "      <td>January 9th 2002</td>\n",
              "      <td>Victor\\n\\n            ,</td>\n",
              "      <td>123.0</td>\n",
              "      <td>English</td>\n",
              "      <td>2</td>\n",
              "      <td>23</td>\n",
              "      <td>3.61</td>\n",
              "      <td>NaN</td>\n",
              "    </tr>\n",
              "    <tr>\n",
              "      <th>10017</th>\n",
              "      <td>10017</td>\n",
              "      <td>The Immortal Hunter (Argeneau #11; Rogue Hunte...</td>\n",
              "      <td>\\n        (Argeneau #11)\\n</td>\n",
              "      <td>Lynsay Sands</td>\n",
              "      <td>https://www.goodreads.com/book/show/3942622-th...</td>\n",
              "      <td>Romance,Paranormal Romance,Paranormal,Vampires...</td>\n",
              "      <td>March 31st 2009</td>\n",
              "      <td>Avon</td>\n",
              "      <td>360.0</td>\n",
              "      <td>English</td>\n",
              "      <td>383</td>\n",
              "      <td>14,498</td>\n",
              "      <td>4.22</td>\n",
              "      <td>NaN</td>\n",
              "    </tr>\n",
              "  </tbody>\n",
              "</table>\n",
              "<p>10018 rows × 14 columns</p>\n",
              "</div>"
            ],
            "text/plain": [
              "          id  ...                                              award\n",
              "0          0  ...  Kurd-Laßwitz-Preis for Bestes ausländisches We...\n",
              "1          1  ...  Colorado Book Award for General Nonfiction (2004)\n",
              "2          2  ...  PEN/Hemingway Foundation Award Nominee (2010),...\n",
              "3          3  ...                    Orange Prize for Fiction (2005)\n",
              "4          4  ...  Ambassador Book Award for American Studies (20...\n",
              "...      ...  ...                                                ...\n",
              "10013  10013  ...                                                NaN\n",
              "10014  10014  ...                                                NaN\n",
              "10015  10015  ...                                                NaN\n",
              "10016  10016  ...                                                NaN\n",
              "10017  10017  ...                                                NaN\n",
              "\n",
              "[10018 rows x 14 columns]"
            ]
          },
          "metadata": {},
          "execution_count": 608
        }
      ]
    },
    {
      "cell_type": "code",
      "metadata": {
        "colab": {
          "base_uri": "https://localhost:8080/",
          "height": 423
        },
        "id": "lHKHFvNNRPw5",
        "outputId": "eea87397-5515-4611-ca58-4b32c2795237"
      },
      "source": [
        "df_rating_list = pd.read_csv('/content/goodbooks-10k/ratings.csv', parse_dates=True, squeeze=True)\n",
        "df_rating_list"
      ],
      "execution_count": 609,
      "outputs": [
        {
          "output_type": "execute_result",
          "data": {
            "text/html": [
              "<div>\n",
              "<style scoped>\n",
              "    .dataframe tbody tr th:only-of-type {\n",
              "        vertical-align: middle;\n",
              "    }\n",
              "\n",
              "    .dataframe tbody tr th {\n",
              "        vertical-align: top;\n",
              "    }\n",
              "\n",
              "    .dataframe thead th {\n",
              "        text-align: right;\n",
              "    }\n",
              "</style>\n",
              "<table border=\"1\" class=\"dataframe\">\n",
              "  <thead>\n",
              "    <tr style=\"text-align: right;\">\n",
              "      <th></th>\n",
              "      <th>book_id</th>\n",
              "      <th>user_id</th>\n",
              "      <th>rating</th>\n",
              "    </tr>\n",
              "  </thead>\n",
              "  <tbody>\n",
              "    <tr>\n",
              "      <th>0</th>\n",
              "      <td>1</td>\n",
              "      <td>314</td>\n",
              "      <td>5</td>\n",
              "    </tr>\n",
              "    <tr>\n",
              "      <th>1</th>\n",
              "      <td>1</td>\n",
              "      <td>439</td>\n",
              "      <td>3</td>\n",
              "    </tr>\n",
              "    <tr>\n",
              "      <th>2</th>\n",
              "      <td>1</td>\n",
              "      <td>588</td>\n",
              "      <td>5</td>\n",
              "    </tr>\n",
              "    <tr>\n",
              "      <th>3</th>\n",
              "      <td>1</td>\n",
              "      <td>1169</td>\n",
              "      <td>4</td>\n",
              "    </tr>\n",
              "    <tr>\n",
              "      <th>4</th>\n",
              "      <td>1</td>\n",
              "      <td>1185</td>\n",
              "      <td>4</td>\n",
              "    </tr>\n",
              "    <tr>\n",
              "      <th>...</th>\n",
              "      <td>...</td>\n",
              "      <td>...</td>\n",
              "      <td>...</td>\n",
              "    </tr>\n",
              "    <tr>\n",
              "      <th>981751</th>\n",
              "      <td>10000</td>\n",
              "      <td>48386</td>\n",
              "      <td>5</td>\n",
              "    </tr>\n",
              "    <tr>\n",
              "      <th>981752</th>\n",
              "      <td>10000</td>\n",
              "      <td>49007</td>\n",
              "      <td>4</td>\n",
              "    </tr>\n",
              "    <tr>\n",
              "      <th>981753</th>\n",
              "      <td>10000</td>\n",
              "      <td>49383</td>\n",
              "      <td>5</td>\n",
              "    </tr>\n",
              "    <tr>\n",
              "      <th>981754</th>\n",
              "      <td>10000</td>\n",
              "      <td>50124</td>\n",
              "      <td>5</td>\n",
              "    </tr>\n",
              "    <tr>\n",
              "      <th>981755</th>\n",
              "      <td>10000</td>\n",
              "      <td>51328</td>\n",
              "      <td>1</td>\n",
              "    </tr>\n",
              "  </tbody>\n",
              "</table>\n",
              "<p>981756 rows × 3 columns</p>\n",
              "</div>"
            ],
            "text/plain": [
              "        book_id  user_id  rating\n",
              "0             1      314       5\n",
              "1             1      439       3\n",
              "2             1      588       5\n",
              "3             1     1169       4\n",
              "4             1     1185       4\n",
              "...         ...      ...     ...\n",
              "981751    10000    48386       5\n",
              "981752    10000    49007       4\n",
              "981753    10000    49383       5\n",
              "981754    10000    50124       5\n",
              "981755    10000    51328       1\n",
              "\n",
              "[981756 rows x 3 columns]"
            ]
          },
          "metadata": {},
          "execution_count": 609
        }
      ]
    },
    {
      "cell_type": "markdown",
      "metadata": {
        "id": "zKU5zGJ-9XY_"
      },
      "source": [
        "# Data Understanding\n",
        "Untuk submission ini, saya mengambil data dari Kaggle yang bernama Best Books of The 21st Century Dataset. Berikut adalah daftar kolom di file CSV yang tersedia:\n",
        "* id: id of the book\n",
        "* title: book's title\n",
        "* series: book's series. If the book doesn't belong to any series the value will be null\n",
        "* author: author of the book\n",
        "* book_link: book's URL on GoodReads\n",
        "* genre: genres of the book (ordered by number of genre votes)\n",
        "* date_published: published date\n",
        "* publisher: publisher of the book\n",
        "* num_of_page: number of pages\n",
        "* lang: language of the book\n",
        "* review_count: number of reviews\n",
        "* rating_count: number of ratings\n",
        "* rate: rating\n",
        "* award: awards of the book"
      ]
    },
    {
      "cell_type": "code",
      "metadata": {
        "colab": {
          "base_uri": "https://localhost:8080/"
        },
        "id": "T2-NGkBr-PVn",
        "outputId": "6b69cb77-df2c-4ec0-f560-70c488db671f"
      },
      "source": [
        "df_book_list.info()"
      ],
      "execution_count": 610,
      "outputs": [
        {
          "output_type": "stream",
          "name": "stdout",
          "text": [
            "<class 'pandas.core.frame.DataFrame'>\n",
            "RangeIndex: 10018 entries, 0 to 10017\n",
            "Data columns (total 14 columns):\n",
            " #   Column          Non-Null Count  Dtype  \n",
            "---  ------          --------------  -----  \n",
            " 0   id              10018 non-null  int64  \n",
            " 1   title           10018 non-null  object \n",
            " 2   series          4341 non-null   object \n",
            " 3   author          10003 non-null  object \n",
            " 4   book_link       10018 non-null  object \n",
            " 5   genre           9019 non-null   object \n",
            " 6   date_published  9970 non-null   object \n",
            " 7   publisher       9624 non-null   object \n",
            " 8   num_of_page     9737 non-null   float64\n",
            " 9   lang            9503 non-null   object \n",
            " 10  review_count    10003 non-null  object \n",
            " 11  rating_count    10003 non-null  object \n",
            " 12  rate            10003 non-null  float64\n",
            " 13  award           4024 non-null   object \n",
            "dtypes: float64(2), int64(1), object(11)\n",
            "memory usage: 1.1+ MB\n"
          ]
        }
      ]
    },
    {
      "cell_type": "code",
      "metadata": {
        "colab": {
          "base_uri": "https://localhost:8080/"
        },
        "id": "6xr3wiRuArzc",
        "outputId": "a71f534a-655f-4243-dc52-34be1a0a059e"
      },
      "source": [
        "df_book_list['rate'].describe()"
      ],
      "execution_count": 611,
      "outputs": [
        {
          "output_type": "execute_result",
          "data": {
            "text/plain": [
              "count    10003.000000\n",
              "mean         3.987817\n",
              "std          0.342731\n",
              "min          0.000000\n",
              "25%          3.790000\n",
              "50%          3.990000\n",
              "75%          4.190000\n",
              "max          5.000000\n",
              "Name: rate, dtype: float64"
            ]
          },
          "metadata": {},
          "execution_count": 611
        }
      ]
    },
    {
      "cell_type": "code",
      "metadata": {
        "colab": {
          "base_uri": "https://localhost:8080/",
          "height": 1000
        },
        "id": "16atc8kXZ4sj",
        "outputId": "c21ef1ce-8adc-4f76-b3f2-c84e1b883c27"
      },
      "source": [
        "for x in range(len(df_book_list)):\n",
        "  df_book_list['genre'][x] = str(df_book_list['genre'][x]).split(',')[0]\n",
        "\n",
        "df_book_list"
      ],
      "execution_count": 612,
      "outputs": [
        {
          "output_type": "stream",
          "name": "stderr",
          "text": [
            "/usr/local/lib/python3.7/dist-packages/ipykernel_launcher.py:2: SettingWithCopyWarning: \n",
            "A value is trying to be set on a copy of a slice from a DataFrame\n",
            "\n",
            "See the caveats in the documentation: https://pandas.pydata.org/pandas-docs/stable/user_guide/indexing.html#returning-a-view-versus-a-copy\n",
            "  \n"
          ]
        },
        {
          "output_type": "execute_result",
          "data": {
            "text/html": [
              "<div>\n",
              "<style scoped>\n",
              "    .dataframe tbody tr th:only-of-type {\n",
              "        vertical-align: middle;\n",
              "    }\n",
              "\n",
              "    .dataframe tbody tr th {\n",
              "        vertical-align: top;\n",
              "    }\n",
              "\n",
              "    .dataframe thead th {\n",
              "        text-align: right;\n",
              "    }\n",
              "</style>\n",
              "<table border=\"1\" class=\"dataframe\">\n",
              "  <thead>\n",
              "    <tr style=\"text-align: right;\">\n",
              "      <th></th>\n",
              "      <th>id</th>\n",
              "      <th>title</th>\n",
              "      <th>series</th>\n",
              "      <th>author</th>\n",
              "      <th>book_link</th>\n",
              "      <th>genre</th>\n",
              "      <th>date_published</th>\n",
              "      <th>publisher</th>\n",
              "      <th>num_of_page</th>\n",
              "      <th>lang</th>\n",
              "      <th>review_count</th>\n",
              "      <th>rating_count</th>\n",
              "      <th>rate</th>\n",
              "      <th>award</th>\n",
              "    </tr>\n",
              "  </thead>\n",
              "  <tbody>\n",
              "    <tr>\n",
              "      <th>0</th>\n",
              "      <td>0</td>\n",
              "      <td>The Martian</td>\n",
              "      <td>\\n        (The Martian #1)\\n</td>\n",
              "      <td>Andy Weir</td>\n",
              "      <td>https://www.goodreads.com/book/show/18007564-t...</td>\n",
              "      <td>Science Fiction</td>\n",
              "      <td>February 11th 2014</td>\n",
              "      <td>Crown\\n\\n            ,</td>\n",
              "      <td>384.0</td>\n",
              "      <td>English</td>\n",
              "      <td>77,156</td>\n",
              "      <td>919,781</td>\n",
              "      <td>4.40</td>\n",
              "      <td>Kurd-Laßwitz-Preis for Bestes ausländisches We...</td>\n",
              "    </tr>\n",
              "    <tr>\n",
              "      <th>1</th>\n",
              "      <td>1</td>\n",
              "      <td>Under the Banner of Heaven: A Story of Violent...</td>\n",
              "      <td>NaN</td>\n",
              "      <td>Jon Krakauer</td>\n",
              "      <td>https://www.goodreads.com/book/show/10847.Unde...</td>\n",
              "      <td>Nonfiction</td>\n",
              "      <td>2004</td>\n",
              "      <td>Pan MacMillan\\n\\n            ,</td>\n",
              "      <td>400.0</td>\n",
              "      <td>English</td>\n",
              "      <td>10,981</td>\n",
              "      <td>173,895</td>\n",
              "      <td>3.98</td>\n",
              "      <td>Colorado Book Award for General Nonfiction (2004)</td>\n",
              "    </tr>\n",
              "    <tr>\n",
              "      <th>2</th>\n",
              "      <td>2</td>\n",
              "      <td>Cutting for Stone</td>\n",
              "      <td>NaN</td>\n",
              "      <td>Abraham   Verghese</td>\n",
              "      <td>https://www.goodreads.com/book/show/3591262-cu...</td>\n",
              "      <td>Fiction</td>\n",
              "      <td>February 3rd 2009</td>\n",
              "      <td>Alfred A. Knopf\\n\\n            ,</td>\n",
              "      <td>541.0</td>\n",
              "      <td>English</td>\n",
              "      <td>26,253</td>\n",
              "      <td>353,365</td>\n",
              "      <td>4.29</td>\n",
              "      <td>PEN/Hemingway Foundation Award Nominee (2010),...</td>\n",
              "    </tr>\n",
              "    <tr>\n",
              "      <th>3</th>\n",
              "      <td>3</td>\n",
              "      <td>We Need to Talk About Kevin</td>\n",
              "      <td>NaN</td>\n",
              "      <td>Lionel Shriver</td>\n",
              "      <td>https://www.goodreads.com/book/show/80660.We_N...</td>\n",
              "      <td>Fiction</td>\n",
              "      <td>July 3rd 2006</td>\n",
              "      <td>Harper Perennial\\n\\n            ,</td>\n",
              "      <td>400.0</td>\n",
              "      <td>English</td>\n",
              "      <td>14,787</td>\n",
              "      <td>187,639</td>\n",
              "      <td>4.04</td>\n",
              "      <td>Orange Prize for Fiction (2005)</td>\n",
              "    </tr>\n",
              "    <tr>\n",
              "      <th>4</th>\n",
              "      <td>4</td>\n",
              "      <td>The Immortal Life of Henrietta Lacks</td>\n",
              "      <td>NaN</td>\n",
              "      <td>Rebecca Skloot</td>\n",
              "      <td>https://www.goodreads.com/book/show/6493208-th...</td>\n",
              "      <td>Nonfiction</td>\n",
              "      <td>February 2nd 2010</td>\n",
              "      <td>Crown Publishing Group\\n\\n            ,</td>\n",
              "      <td>370.0</td>\n",
              "      <td>English</td>\n",
              "      <td>36,574</td>\n",
              "      <td>646,155</td>\n",
              "      <td>4.07</td>\n",
              "      <td>Ambassador Book Award for American Studies (20...</td>\n",
              "    </tr>\n",
              "    <tr>\n",
              "      <th>...</th>\n",
              "      <td>...</td>\n",
              "      <td>...</td>\n",
              "      <td>...</td>\n",
              "      <td>...</td>\n",
              "      <td>...</td>\n",
              "      <td>...</td>\n",
              "      <td>...</td>\n",
              "      <td>...</td>\n",
              "      <td>...</td>\n",
              "      <td>...</td>\n",
              "      <td>...</td>\n",
              "      <td>...</td>\n",
              "      <td>...</td>\n",
              "      <td>...</td>\n",
              "    </tr>\n",
              "    <tr>\n",
              "      <th>10013</th>\n",
              "      <td>10013</td>\n",
              "      <td>Edge of Passion (Stealth Guardians, #1)</td>\n",
              "      <td>\\n        (Stealth Guardians #1)\\n</td>\n",
              "      <td>Tina Folsom</td>\n",
              "      <td>https://www.goodreads.com/book/show/13516444-e...</td>\n",
              "      <td>Fantasy</td>\n",
              "      <td>March 7th 2012</td>\n",
              "      <td>NaN</td>\n",
              "      <td>NaN</td>\n",
              "      <td>English</td>\n",
              "      <td>102</td>\n",
              "      <td>1,011</td>\n",
              "      <td>4.01</td>\n",
              "      <td>NaN</td>\n",
              "    </tr>\n",
              "    <tr>\n",
              "      <th>10014</th>\n",
              "      <td>10014</td>\n",
              "      <td>Tales from a Not-So-Popular Party Girl (Dork D...</td>\n",
              "      <td>\\n        (Dork Diaries #2)\\n</td>\n",
              "      <td>Rachel Renée Russell</td>\n",
              "      <td>https://www.goodreads.com/book/show/8274537-ta...</td>\n",
              "      <td>Childrens</td>\n",
              "      <td>June 8th 2010</td>\n",
              "      <td>Aladdin</td>\n",
              "      <td>288.0</td>\n",
              "      <td>English</td>\n",
              "      <td>1,480</td>\n",
              "      <td>54,285</td>\n",
              "      <td>4.24</td>\n",
              "      <td>NaN</td>\n",
              "    </tr>\n",
              "    <tr>\n",
              "      <th>10015</th>\n",
              "      <td>10015</td>\n",
              "      <td>Bottoms</td>\n",
              "      <td>NaN</td>\n",
              "      <td>Tanja Kirschner</td>\n",
              "      <td>https://www.goodreads.com/book/show/2024071.Bo...</td>\n",
              "      <td>nan</td>\n",
              "      <td>September 1st 2005</td>\n",
              "      <td>NorthSouth\\n\\n            ,</td>\n",
              "      <td>24.0</td>\n",
              "      <td>English</td>\n",
              "      <td>5</td>\n",
              "      <td>11</td>\n",
              "      <td>3.55</td>\n",
              "      <td>NaN</td>\n",
              "    </tr>\n",
              "    <tr>\n",
              "      <th>10016</th>\n",
              "      <td>10016</td>\n",
              "      <td>The Wedding Dress</td>\n",
              "      <td>NaN</td>\n",
              "      <td>Gary E. Parker</td>\n",
              "      <td>https://www.goodreads.com/book/show/783968.The...</td>\n",
              "      <td>nan</td>\n",
              "      <td>January 9th 2002</td>\n",
              "      <td>Victor\\n\\n            ,</td>\n",
              "      <td>123.0</td>\n",
              "      <td>English</td>\n",
              "      <td>2</td>\n",
              "      <td>23</td>\n",
              "      <td>3.61</td>\n",
              "      <td>NaN</td>\n",
              "    </tr>\n",
              "    <tr>\n",
              "      <th>10017</th>\n",
              "      <td>10017</td>\n",
              "      <td>The Immortal Hunter (Argeneau #11; Rogue Hunte...</td>\n",
              "      <td>\\n        (Argeneau #11)\\n</td>\n",
              "      <td>Lynsay Sands</td>\n",
              "      <td>https://www.goodreads.com/book/show/3942622-th...</td>\n",
              "      <td>Romance</td>\n",
              "      <td>March 31st 2009</td>\n",
              "      <td>Avon</td>\n",
              "      <td>360.0</td>\n",
              "      <td>English</td>\n",
              "      <td>383</td>\n",
              "      <td>14,498</td>\n",
              "      <td>4.22</td>\n",
              "      <td>NaN</td>\n",
              "    </tr>\n",
              "  </tbody>\n",
              "</table>\n",
              "<p>10018 rows × 14 columns</p>\n",
              "</div>"
            ],
            "text/plain": [
              "          id  ...                                              award\n",
              "0          0  ...  Kurd-Laßwitz-Preis for Bestes ausländisches We...\n",
              "1          1  ...  Colorado Book Award for General Nonfiction (2004)\n",
              "2          2  ...  PEN/Hemingway Foundation Award Nominee (2010),...\n",
              "3          3  ...                    Orange Prize for Fiction (2005)\n",
              "4          4  ...  Ambassador Book Award for American Studies (20...\n",
              "...      ...  ...                                                ...\n",
              "10013  10013  ...                                                NaN\n",
              "10014  10014  ...                                                NaN\n",
              "10015  10015  ...                                                NaN\n",
              "10016  10016  ...                                                NaN\n",
              "10017  10017  ...                                                NaN\n",
              "\n",
              "[10018 rows x 14 columns]"
            ]
          },
          "metadata": {},
          "execution_count": 612
        }
      ]
    },
    {
      "cell_type": "code",
      "metadata": {
        "colab": {
          "base_uri": "https://localhost:8080/"
        },
        "id": "PTYp4QB4e8H_",
        "outputId": "1bde0ea2-898b-4a18-c32e-93485545e339"
      },
      "source": [
        "# Available genres:\n",
        "genres = df_book_list['genre'].unique().tolist()\n",
        "print(\"All genres : {}\".format(genres))\n",
        "print(\"Genres amount : {}\".format(len(genres)))"
      ],
      "execution_count": 613,
      "outputs": [
        {
          "output_type": "stream",
          "name": "stdout",
          "text": [
            "All genres : ['Science Fiction', 'Nonfiction', 'Fiction', 'Fantasy', 'Young Adult', 'Historical', 'nan', 'Romance', 'Autobiography', 'Horror', 'Mystery', 'Christian', 'Womens Fiction', 'Sequential Art', 'Short Stories', 'History', 'Humor', 'Food and Drink', 'Contemporary', 'Travel', 'Adventure', 'Christian Fiction', 'Polyamorous', 'Poetry', 'Drama', 'Biography', 'Suspense', 'Music', 'Realistic Fiction', 'Thriller', 'War', 'Business', 'New Adult', 'Cultural', 'Paranormal', 'Science Fiction Fantasy', 'Artificial Intelligence', 'Art', 'Politics', 'Dark', 'Parenting', 'Childrens', 'Psychology', 'Philosophy', 'Epic', 'Erotica', 'Science', 'Spirituality', 'Religion', 'Plays', 'LGBT', 'Environment', 'Self Help', 'Animals', 'Cities', 'Education', 'Economics', 'Holiday', 'Crime', 'Novels', 'Health', 'Feminism', 'Classics', 'Marriage', 'Media Tie In', 'Sports', 'Writing', 'Amish', 'Inspirational', 'Computer Science', 'Humanities', 'Language', 'Eastern Africa', 'Adult Fiction', 'Architecture', 'Sexuality', 'Shapeshifters', 'Christianity', 'Folklore', 'Literature', 'Design', 'Urban', 'European Literature', 'Apocalyptic', 'Asian Literature', 'Dungeons and Dragons', 'Northern Africa', 'Reference', 'Mythology', 'Culture', 'Gothic', 'Family', 'Football', 'Pseudoscience', 'Death', 'Labor', 'North American Hi...', 'Horticulture', 'Aviation', 'Criticism', 'Fan Fiction', 'Games', 'Social Science', 'Teaching', 'Medical', 'Sociology', 'Neurodiversity', 'Superheroes', 'World War II', 'New York', 'Academic', 'Leadership', 'Prayer']\n",
            "Genres amount : 113\n"
          ]
        }
      ]
    },
    {
      "cell_type": "code",
      "metadata": {
        "colab": {
          "base_uri": "https://localhost:8080/",
          "height": 394
        },
        "id": "k9HzBJIdvhUX",
        "outputId": "7d7a5d9a-150f-4f16-e41b-fac178fc145a"
      },
      "source": [
        "df_top_publishers = df_book_list.groupby('publisher')['title'].count().reset_index().sort_values('title', ascending=False).head(10).set_index('publisher')\n",
        "df_top_publishers"
      ],
      "execution_count": 614,
      "outputs": [
        {
          "output_type": "execute_result",
          "data": {
            "text/html": [
              "<div>\n",
              "<style scoped>\n",
              "    .dataframe tbody tr th:only-of-type {\n",
              "        vertical-align: middle;\n",
              "    }\n",
              "\n",
              "    .dataframe tbody tr th {\n",
              "        vertical-align: top;\n",
              "    }\n",
              "\n",
              "    .dataframe thead th {\n",
              "        text-align: right;\n",
              "    }\n",
              "</style>\n",
              "<table border=\"1\" class=\"dataframe\">\n",
              "  <thead>\n",
              "    <tr style=\"text-align: right;\">\n",
              "      <th></th>\n",
              "      <th>title</th>\n",
              "    </tr>\n",
              "    <tr>\n",
              "      <th>publisher</th>\n",
              "      <th></th>\n",
              "    </tr>\n",
              "  </thead>\n",
              "  <tbody>\n",
              "    <tr>\n",
              "      <th>Vintage\\n\\n            ,</th>\n",
              "      <td>95</td>\n",
              "    </tr>\n",
              "    <tr>\n",
              "      <th>Little, Brown and Company</th>\n",
              "      <td>68</td>\n",
              "    </tr>\n",
              "    <tr>\n",
              "      <th>HarperCollins</th>\n",
              "      <td>68</td>\n",
              "    </tr>\n",
              "    <tr>\n",
              "      <th>Grand Central Publishing\\n\\n            ,</th>\n",
              "      <td>62</td>\n",
              "    </tr>\n",
              "    <tr>\n",
              "      <th>St. Martin's Press</th>\n",
              "      <td>58</td>\n",
              "    </tr>\n",
              "    <tr>\n",
              "      <th>Random House</th>\n",
              "      <td>57</td>\n",
              "    </tr>\n",
              "    <tr>\n",
              "      <th>Penguin Books\\n\\n            ,</th>\n",
              "      <td>57</td>\n",
              "    </tr>\n",
              "    <tr>\n",
              "      <th>Knopf</th>\n",
              "      <td>52</td>\n",
              "    </tr>\n",
              "    <tr>\n",
              "      <th>William Morrow</th>\n",
              "      <td>52</td>\n",
              "    </tr>\n",
              "    <tr>\n",
              "      <th>Harper\\n\\n            ,</th>\n",
              "      <td>46</td>\n",
              "    </tr>\n",
              "  </tbody>\n",
              "</table>\n",
              "</div>"
            ],
            "text/plain": [
              "                                           title\n",
              "publisher                                       \n",
              "Vintage\\n\\n            ,                      95\n",
              "Little, Brown and Company                     68\n",
              "HarperCollins                                 68\n",
              "Grand Central Publishing\\n\\n            ,     62\n",
              "St. Martin's Press                            58\n",
              "Random House                                  57\n",
              "Penguin Books\\n\\n            ,                57\n",
              "Knopf                                         52\n",
              "William Morrow                                52\n",
              "Harper\\n\\n            ,                       46"
            ]
          },
          "metadata": {},
          "execution_count": 614
        }
      ]
    },
    {
      "cell_type": "code",
      "metadata": {
        "colab": {
          "base_uri": "https://localhost:8080/",
          "height": 702
        },
        "id": "8YahQW7Iqh4h",
        "outputId": "0c534f6c-2f50-4ae6-accf-3d3f0f825d2d"
      },
      "source": [
        "sns.set_context('talk')\n",
        "plt.figure(figsize=(15,10))\n",
        "ax = sns.barplot(df_top_publishers['title'], df_top_publishers.index, palette='icefire_r')\n",
        "ax.set_title(\"Top 10 authors with most books\")\n",
        "ax.set_xlabel(\"Total number of books\")\n",
        "for i in ax.patches:\n",
        "    ax.text(i.get_width()+.3, i.get_y()+0.5, str(round(i.get_width())), fontsize = 10, color = 'k')"
      ],
      "execution_count": 615,
      "outputs": [
        {
          "output_type": "stream",
          "name": "stderr",
          "text": [
            "/usr/local/lib/python3.7/dist-packages/seaborn/_decorators.py:43: FutureWarning: Pass the following variables as keyword args: x, y. From version 0.12, the only valid positional argument will be `data`, and passing other arguments without an explicit keyword will result in an error or misinterpretation.\n",
            "  FutureWarning\n"
          ]
        },
        {
          "output_type": "display_data",
          "data": {
            "image/png": "[encoded data removed]",
            "text/plain": [
              "<Figure size 1080x720 with 1 Axes>"
            ]
          },
          "metadata": {
            "needs_background": "light"
          }
        }
      ]
    },
    {
      "cell_type": "code",
      "metadata": {
        "colab": {
          "base_uri": "https://localhost:8080/",
          "height": 363
        },
        "id": "wh5CsUVUvJww",
        "outputId": "587e14d3-1b8e-4cac-e809-a82804240a12"
      },
      "source": [
        "df_visual_genres = df_book_list.groupby('genre')['title'].count().reset_index().sort_values('title', ascending=False).head(10)\n",
        "df_visual_genres"
      ],
      "execution_count": 616,
      "outputs": [
        {
          "output_type": "execute_result",
          "data": {
            "text/html": [
              "<div>\n",
              "<style scoped>\n",
              "    .dataframe tbody tr th:only-of-type {\n",
              "        vertical-align: middle;\n",
              "    }\n",
              "\n",
              "    .dataframe tbody tr th {\n",
              "        vertical-align: top;\n",
              "    }\n",
              "\n",
              "    .dataframe thead th {\n",
              "        text-align: right;\n",
              "    }\n",
              "</style>\n",
              "<table border=\"1\" class=\"dataframe\">\n",
              "  <thead>\n",
              "    <tr style=\"text-align: right;\">\n",
              "      <th></th>\n",
              "      <th>genre</th>\n",
              "      <th>title</th>\n",
              "    </tr>\n",
              "  </thead>\n",
              "  <tbody>\n",
              "    <tr>\n",
              "      <th>42</th>\n",
              "      <td>Fiction</td>\n",
              "      <td>1654</td>\n",
              "    </tr>\n",
              "    <tr>\n",
              "      <th>40</th>\n",
              "      <td>Fantasy</td>\n",
              "      <td>1556</td>\n",
              "    </tr>\n",
              "    <tr>\n",
              "      <th>112</th>\n",
              "      <td>nan</td>\n",
              "      <td>999</td>\n",
              "    </tr>\n",
              "    <tr>\n",
              "      <th>71</th>\n",
              "      <td>Nonfiction</td>\n",
              "      <td>783</td>\n",
              "    </tr>\n",
              "    <tr>\n",
              "      <th>111</th>\n",
              "      <td>Young Adult</td>\n",
              "      <td>709</td>\n",
              "    </tr>\n",
              "    <tr>\n",
              "      <th>49</th>\n",
              "      <td>Historical</td>\n",
              "      <td>657</td>\n",
              "    </tr>\n",
              "    <tr>\n",
              "      <th>66</th>\n",
              "      <td>Mystery</td>\n",
              "      <td>467</td>\n",
              "    </tr>\n",
              "    <tr>\n",
              "      <th>88</th>\n",
              "      <td>Romance</td>\n",
              "      <td>434</td>\n",
              "    </tr>\n",
              "    <tr>\n",
              "      <th>90</th>\n",
              "      <td>Science Fiction</td>\n",
              "      <td>346</td>\n",
              "    </tr>\n",
              "    <tr>\n",
              "      <th>50</th>\n",
              "      <td>History</td>\n",
              "      <td>322</td>\n",
              "    </tr>\n",
              "  </tbody>\n",
              "</table>\n",
              "</div>"
            ],
            "text/plain": [
              "               genre  title\n",
              "42           Fiction   1654\n",
              "40           Fantasy   1556\n",
              "112              nan    999\n",
              "71        Nonfiction    783\n",
              "111      Young Adult    709\n",
              "49        Historical    657\n",
              "66           Mystery    467\n",
              "88           Romance    434\n",
              "90   Science Fiction    346\n",
              "50           History    322"
            ]
          },
          "metadata": {},
          "execution_count": 616
        }
      ]
    },
    {
      "cell_type": "code",
      "metadata": {
        "colab": {
          "base_uri": "https://localhost:8080/",
          "height": 398
        },
        "id": "OGt19r64v8bR",
        "outputId": "3e89511a-879f-4b76-913d-bca7f54ba7c6"
      },
      "source": [
        "plt.figure(figsize=(20,6))\n",
        "plt.title('Top 10 Book Genres')\n",
        "sns.barplot(x=\"genre\", y=\"title\", data=df_visual_genres, palette='icefire_r')\n",
        "plt.show()"
      ],
      "execution_count": 617,
      "outputs": [
        {
          "output_type": "display_data",
          "data": {
            "image/png": "[encoded data removed]",
            "text/plain": [
              "<Figure size 1440x432 with 1 Axes>"
            ]
          },
          "metadata": {
            "needs_background": "light"
          }
        }
      ]
    },
    {
      "cell_type": "markdown",
      "metadata": {
        "id": "AJP4S8qT1_Fp"
      },
      "source": [
        "# **Data Preparation**"
      ]
    },
    {
      "cell_type": "markdown",
      "metadata": {
        "id": "UwsIkpoo2-GZ"
      },
      "source": [
        "Langkah langkah yang dilakukan : \n",
        "* Menghilangkan null values\n",
        "* Menghilangkan data duplikat\n",
        "* Menghilangkan data dengan genre 'nan'\n",
        "* Data encoding Untuk data encoding, dataset yang akan digunakan hanya df atau gabungan dari kedua dataset sebelumnya karena data yang akan digunakan untuk model adalah dataset df ini. Untuk penggunaanya, saya membuat encoding atau menyandikan nilai unik dari kolom user_id. Lalu saya melakukan proses encoding angka ke user_id. Hal yang serupa saya lakukan kepada item_id. Kemudian saya memetakan hasil dari encoding tersebut ke dalam dataframe df.\n",
        "* One-Hot Encoding Proses ini digunakan untuk cosine similarity. Pertama saya membuat one hot encoding pada genre karena setiap film mempunyai jumlah genre yang berbeda dan genre yang bervariasi. Saya membuat kolom baru untuk setiap nilai genre yang terdapat dalam kolom genres.\n",
        "* Train Test Split data untuk Collaborative Filtering dengan ratio 80% data latih dan 20% data uji."
      ]
    },
    {
      "cell_type": "code",
      "metadata": {
        "id": "0-1ZQrEh2qXf"
      },
      "source": [
        "df_book_list['genre'].dropna(axis=0, inplace=True)\n",
        "df_book_list['rate'].dropna(axis=0, inplace=True)\n",
        "\n",
        "df_book_list.drop(df_book_list.loc[df_book_list['genre']== 'nan'].index, inplace=True)"
      ],
      "execution_count": 618,
      "outputs": []
    },
    {
      "cell_type": "code",
      "metadata": {
        "colab": {
          "base_uri": "https://localhost:8080/"
        },
        "id": "b_XebpyK195w",
        "outputId": "318b5ecd-312f-480a-cf2b-71c038534719"
      },
      "source": [
        "df_book_list.isnull().sum()\n",
        "print(df_book_list.shape)"
      ],
      "execution_count": 619,
      "outputs": [
        {
          "output_type": "stream",
          "name": "stdout",
          "text": [
            "(9019, 14)\n"
          ]
        }
      ]
    },
    {
      "cell_type": "code",
      "metadata": {
        "colab": {
          "base_uri": "https://localhost:8080/"
        },
        "id": "uJbHRnbT3Yf5",
        "outputId": "70aa56ab-194e-4a7c-c840-ab5aa11d2017"
      },
      "source": [
        "df_book_list.drop_duplicates(subset=['title'], keep='first', inplace=True)\n",
        "print(df_book_list.shape)"
      ],
      "execution_count": 620,
      "outputs": [
        {
          "output_type": "stream",
          "name": "stdout",
          "text": [
            "(8140, 14)\n"
          ]
        }
      ]
    },
    {
      "cell_type": "code",
      "metadata": {
        "colab": {
          "base_uri": "https://localhost:8080/"
        },
        "id": "_ndJpsNq2Rfm",
        "outputId": "91dbb7c9-0ff4-443c-9430-ee29f061197c"
      },
      "source": [
        "check_duplicates = df_book_list[df_book_list.duplicated()]\n",
        "print(check_duplicates)"
      ],
      "execution_count": 621,
      "outputs": [
        {
          "output_type": "stream",
          "name": "stdout",
          "text": [
            "Empty DataFrame\n",
            "Columns: [id, title, series, author, book_link, genre, date_published, publisher, num_of_page, lang, review_count, rating_count, rate, award]\n",
            "Index: []\n"
          ]
        }
      ]
    },
    {
      "cell_type": "code",
      "metadata": {
        "colab": {
          "base_uri": "https://localhost:8080/",
          "height": 206
        },
        "id": "rvxcXspD31rj",
        "outputId": "ea0e20e9-a338-4496-f1d6-5388c0124570"
      },
      "source": [
        "df_book_cleaned = df_book_list[['title', 'rate', 'genre', 'id']]\n",
        "df_book_cleaned.head()"
      ],
      "execution_count": 622,
      "outputs": [
        {
          "output_type": "execute_result",
          "data": {
            "text/html": [
              "<div>\n",
              "<style scoped>\n",
              "    .dataframe tbody tr th:only-of-type {\n",
              "        vertical-align: middle;\n",
              "    }\n",
              "\n",
              "    .dataframe tbody tr th {\n",
              "        vertical-align: top;\n",
              "    }\n",
              "\n",
              "    .dataframe thead th {\n",
              "        text-align: right;\n",
              "    }\n",
              "</style>\n",
              "<table border=\"1\" class=\"dataframe\">\n",
              "  <thead>\n",
              "    <tr style=\"text-align: right;\">\n",
              "      <th></th>\n",
              "      <th>title</th>\n",
              "      <th>rate</th>\n",
              "      <th>genre</th>\n",
              "      <th>id</th>\n",
              "    </tr>\n",
              "  </thead>\n",
              "  <tbody>\n",
              "    <tr>\n",
              "      <th>0</th>\n",
              "      <td>The Martian</td>\n",
              "      <td>4.40</td>\n",
              "      <td>Science Fiction</td>\n",
              "      <td>0</td>\n",
              "    </tr>\n",
              "    <tr>\n",
              "      <th>1</th>\n",
              "      <td>Under the Banner of Heaven: A Story of Violent...</td>\n",
              "      <td>3.98</td>\n",
              "      <td>Nonfiction</td>\n",
              "      <td>1</td>\n",
              "    </tr>\n",
              "    <tr>\n",
              "      <th>2</th>\n",
              "      <td>Cutting for Stone</td>\n",
              "      <td>4.29</td>\n",
              "      <td>Fiction</td>\n",
              "      <td>2</td>\n",
              "    </tr>\n",
              "    <tr>\n",
              "      <th>3</th>\n",
              "      <td>We Need to Talk About Kevin</td>\n",
              "      <td>4.04</td>\n",
              "      <td>Fiction</td>\n",
              "      <td>3</td>\n",
              "    </tr>\n",
              "    <tr>\n",
              "      <th>4</th>\n",
              "      <td>The Immortal Life of Henrietta Lacks</td>\n",
              "      <td>4.07</td>\n",
              "      <td>Nonfiction</td>\n",
              "      <td>4</td>\n",
              "    </tr>\n",
              "  </tbody>\n",
              "</table>\n",
              "</div>"
            ],
            "text/plain": [
              "                                               title  rate            genre  id\n",
              "0                                        The Martian  4.40  Science Fiction   0\n",
              "1  Under the Banner of Heaven: A Story of Violent...  3.98       Nonfiction   1\n",
              "2                                  Cutting for Stone  4.29          Fiction   2\n",
              "3                        We Need to Talk About Kevin  4.04          Fiction   3\n",
              "4               The Immortal Life of Henrietta Lacks  4.07       Nonfiction   4"
            ]
          },
          "metadata": {},
          "execution_count": 622
        }
      ]
    },
    {
      "cell_type": "markdown",
      "metadata": {
        "id": "exa_ajf8J9QV"
      },
      "source": [
        "# Content-Based Filtering\n"
      ]
    },
    {
      "cell_type": "code",
      "metadata": {
        "colab": {
          "base_uri": "https://localhost:8080/"
        },
        "id": "49BbTAVPKZ5v",
        "outputId": "8055664b-731a-4999-af8c-28b809a79f99"
      },
      "source": [
        "from sklearn.feature_extraction.text import TfidfVectorizer\n",
        "# Data preparation untuk Cosine Similarity\n",
        "tf = TfidfVectorizer(stop_words='english')\n",
        "\n",
        "# Melakukan perhitungan idf pada data movies\n",
        "tf.fit(df_book_cleaned['genre']) \n",
        " \n",
        "# Mapping array dari fitur index integer ke fitur nama\n",
        "tf.get_feature_names()"
      ],
      "execution_count": 623,
      "outputs": [
        {
          "output_type": "stream",
          "name": "stderr",
          "text": [
            "/usr/local/lib/python3.7/dist-packages/sklearn/utils/deprecation.py:87: FutureWarning: Function get_feature_names is deprecated; get_feature_names is deprecated in 1.0 and will be removed in 1.2. Please use get_feature_names_out instead.\n",
            "  warnings.warn(msg, category=FutureWarning)\n"
          ]
        },
        {
          "output_type": "execute_result",
          "data": {
            "text/plain": [
              "['academic',\n",
              " 'adult',\n",
              " 'adventure',\n",
              " 'africa',\n",
              " 'american',\n",
              " 'amish',\n",
              " 'animals',\n",
              " 'apocalyptic',\n",
              " 'architecture',\n",
              " 'art',\n",
              " 'artificial',\n",
              " 'asian',\n",
              " 'autobiography',\n",
              " 'aviation',\n",
              " 'biography',\n",
              " 'business',\n",
              " 'childrens',\n",
              " 'christian',\n",
              " 'christianity',\n",
              " 'cities',\n",
              " 'classics',\n",
              " 'computer',\n",
              " 'contemporary',\n",
              " 'crime',\n",
              " 'criticism',\n",
              " 'cultural',\n",
              " 'culture',\n",
              " 'dark',\n",
              " 'death',\n",
              " 'design',\n",
              " 'dragons',\n",
              " 'drama',\n",
              " 'drink',\n",
              " 'dungeons',\n",
              " 'eastern',\n",
              " 'economics',\n",
              " 'education',\n",
              " 'environment',\n",
              " 'epic',\n",
              " 'erotica',\n",
              " 'european',\n",
              " 'family',\n",
              " 'fan',\n",
              " 'fantasy',\n",
              " 'feminism',\n",
              " 'fiction',\n",
              " 'folklore',\n",
              " 'food',\n",
              " 'football',\n",
              " 'games',\n",
              " 'gothic',\n",
              " 'health',\n",
              " 'help',\n",
              " 'hi',\n",
              " 'historical',\n",
              " 'history',\n",
              " 'holiday',\n",
              " 'horror',\n",
              " 'horticulture',\n",
              " 'humanities',\n",
              " 'humor',\n",
              " 'ii',\n",
              " 'inspirational',\n",
              " 'intelligence',\n",
              " 'labor',\n",
              " 'language',\n",
              " 'leadership',\n",
              " 'lgbt',\n",
              " 'literature',\n",
              " 'marriage',\n",
              " 'media',\n",
              " 'medical',\n",
              " 'music',\n",
              " 'mystery',\n",
              " 'mythology',\n",
              " 'neurodiversity',\n",
              " 'new',\n",
              " 'nonfiction',\n",
              " 'north',\n",
              " 'northern',\n",
              " 'novels',\n",
              " 'paranormal',\n",
              " 'parenting',\n",
              " 'philosophy',\n",
              " 'plays',\n",
              " 'poetry',\n",
              " 'politics',\n",
              " 'polyamorous',\n",
              " 'prayer',\n",
              " 'pseudoscience',\n",
              " 'psychology',\n",
              " 'realistic',\n",
              " 'reference',\n",
              " 'religion',\n",
              " 'romance',\n",
              " 'science',\n",
              " 'self',\n",
              " 'sequential',\n",
              " 'sexuality',\n",
              " 'shapeshifters',\n",
              " 'short',\n",
              " 'social',\n",
              " 'sociology',\n",
              " 'spirituality',\n",
              " 'sports',\n",
              " 'stories',\n",
              " 'superheroes',\n",
              " 'suspense',\n",
              " 'teaching',\n",
              " 'thriller',\n",
              " 'tie',\n",
              " 'travel',\n",
              " 'urban',\n",
              " 'war',\n",
              " 'womens',\n",
              " 'world',\n",
              " 'writing',\n",
              " 'york',\n",
              " 'young']"
            ]
          },
          "metadata": {},
          "execution_count": 623
        }
      ]
    },
    {
      "cell_type": "code",
      "metadata": {
        "colab": {
          "base_uri": "https://localhost:8080/"
        },
        "id": "Mq5sO2K1KbtX",
        "outputId": "495b465b-1927-44ea-d7b3-695dfc602f00"
      },
      "source": [
        "tfidf_matrix = tf.fit_transform(df_book_cleaned['genre']) \n",
        "tfidf_matrix.shape"
      ],
      "execution_count": 624,
      "outputs": [
        {
          "output_type": "execute_result",
          "data": {
            "text/plain": [
              "(8140, 119)"
            ]
          },
          "metadata": {},
          "execution_count": 624
        }
      ]
    },
    {
      "cell_type": "code",
      "metadata": {
        "colab": {
          "base_uri": "https://localhost:8080/"
        },
        "id": "_PzweirLKico",
        "outputId": "f8754f68-1a46-4c04-9f9a-1f7e1d2fe891"
      },
      "source": [
        "from sklearn.metrics.pairwise import cosine_similarity\n",
        "\n",
        "cosine_sim = cosine_similarity(tfidf_matrix)\n",
        "cosine_sim"
      ],
      "execution_count": 625,
      "outputs": [
        {
          "output_type": "execute_result",
          "data": {
            "text/plain": [
              "array([[1.        , 0.        , 0.52326972, ..., 0.        , 0.        ,\n",
              "        0.        ],\n",
              "       [0.        , 1.        , 0.        , ..., 0.        , 0.        ,\n",
              "        0.        ],\n",
              "       [0.52326972, 0.        , 1.        , ..., 0.        , 0.        ,\n",
              "        0.        ],\n",
              "       ...,\n",
              "       [0.        , 0.        , 0.        , ..., 1.        , 0.        ,\n",
              "        0.        ],\n",
              "       [0.        , 0.        , 0.        , ..., 0.        , 1.        ,\n",
              "        0.        ],\n",
              "       [0.        , 0.        , 0.        , ..., 0.        , 0.        ,\n",
              "        1.        ]])"
            ]
          },
          "metadata": {},
          "execution_count": 625
        }
      ]
    },
    {
      "cell_type": "code",
      "metadata": {
        "colab": {
          "base_uri": "https://localhost:8080/",
          "height": 810
        },
        "id": "x6WeJ4zfKkgG",
        "outputId": "1e874974-21f9-4e2d-d62b-a945b047185a"
      },
      "source": [
        "cosine_sim_df = pd.DataFrame(cosine_sim, index=df_book_cleaned['title'],\n",
        "                             columns=df_book_cleaned['title'])\n",
        "print('Size dataframe:', cosine_sim_df.shape)\n",
        "\n",
        "# Melihat similarity matrix tiap movie\n",
        "cosine_sim_df.sample(10, axis=1).sample(10, axis=0)"
      ],
      "execution_count": 626,
      "outputs": [
        {
          "output_type": "stream",
          "name": "stdout",
          "text": [
            "Size dataframe: (8140, 8140)\n"
          ]
        },
        {
          "output_type": "execute_result",
          "data": {
            "text/html": [
              "<div>\n",
              "<style scoped>\n",
              "    .dataframe tbody tr th:only-of-type {\n",
              "        vertical-align: middle;\n",
              "    }\n",
              "\n",
              "    .dataframe tbody tr th {\n",
              "        vertical-align: top;\n",
              "    }\n",
              "\n",
              "    .dataframe thead th {\n",
              "        text-align: right;\n",
              "    }\n",
              "</style>\n",
              "<table border=\"1\" class=\"dataframe\">\n",
              "  <thead>\n",
              "    <tr style=\"text-align: right;\">\n",
              "      <th>title</th>\n",
              "      <th>Ransom</th>\n",
              "      <th>Marvels: Eye of the Camera</th>\n",
              "      <th>Captain's Fury (Codex Alera, #4)</th>\n",
              "      <th>Mozart's Sister (Ladies of History, #1)</th>\n",
              "      <th>Pathologies of Power: Health, Human Rights and the New War on the Poor</th>\n",
              "      <th>The Signal and the Noise: Why So Many Predictions Fail—But Some Don't</th>\n",
              "      <th>Sword Art Online, Vol. 05: Phantom Bullet (Sword Art Online Light Novel, #5)</th>\n",
              "      <th>South of Darkness</th>\n",
              "      <th>Do You Realize?</th>\n",
              "      <th>Phantom Prey (Lucas Davenport, #18)</th>\n",
              "    </tr>\n",
              "    <tr>\n",
              "      <th>title</th>\n",
              "      <th></th>\n",
              "      <th></th>\n",
              "      <th></th>\n",
              "      <th></th>\n",
              "      <th></th>\n",
              "      <th></th>\n",
              "      <th></th>\n",
              "      <th></th>\n",
              "      <th></th>\n",
              "      <th></th>\n",
              "    </tr>\n",
              "  </thead>\n",
              "  <tbody>\n",
              "    <tr>\n",
              "      <th>A Bend in the Road</th>\n",
              "      <td>0.0</td>\n",
              "      <td>0.0</td>\n",
              "      <td>0.0</td>\n",
              "      <td>0.0</td>\n",
              "      <td>0.0</td>\n",
              "      <td>0.0</td>\n",
              "      <td>0.0</td>\n",
              "      <td>0.0</td>\n",
              "      <td>0.00000</td>\n",
              "      <td>0.0</td>\n",
              "    </tr>\n",
              "    <tr>\n",
              "      <th>A History of Polish Christianity</th>\n",
              "      <td>0.0</td>\n",
              "      <td>0.0</td>\n",
              "      <td>0.0</td>\n",
              "      <td>0.0</td>\n",
              "      <td>0.0</td>\n",
              "      <td>0.0</td>\n",
              "      <td>0.0</td>\n",
              "      <td>0.0</td>\n",
              "      <td>0.00000</td>\n",
              "      <td>0.0</td>\n",
              "    </tr>\n",
              "    <tr>\n",
              "      <th>Southern Cross the Dog: A Novel</th>\n",
              "      <td>0.0</td>\n",
              "      <td>0.0</td>\n",
              "      <td>0.0</td>\n",
              "      <td>0.0</td>\n",
              "      <td>0.0</td>\n",
              "      <td>0.0</td>\n",
              "      <td>0.0</td>\n",
              "      <td>0.0</td>\n",
              "      <td>0.52327</td>\n",
              "      <td>0.0</td>\n",
              "    </tr>\n",
              "    <tr>\n",
              "      <th>Starter for Ten</th>\n",
              "      <td>0.0</td>\n",
              "      <td>0.0</td>\n",
              "      <td>0.0</td>\n",
              "      <td>0.0</td>\n",
              "      <td>0.0</td>\n",
              "      <td>0.0</td>\n",
              "      <td>0.0</td>\n",
              "      <td>0.0</td>\n",
              "      <td>0.52327</td>\n",
              "      <td>0.0</td>\n",
              "    </tr>\n",
              "    <tr>\n",
              "      <th>Code Name Verity</th>\n",
              "      <td>1.0</td>\n",
              "      <td>0.0</td>\n",
              "      <td>0.0</td>\n",
              "      <td>1.0</td>\n",
              "      <td>0.0</td>\n",
              "      <td>0.0</td>\n",
              "      <td>0.0</td>\n",
              "      <td>1.0</td>\n",
              "      <td>0.00000</td>\n",
              "      <td>0.0</td>\n",
              "    </tr>\n",
              "    <tr>\n",
              "      <th>How Could She?</th>\n",
              "      <td>0.0</td>\n",
              "      <td>0.0</td>\n",
              "      <td>0.0</td>\n",
              "      <td>0.0</td>\n",
              "      <td>1.0</td>\n",
              "      <td>1.0</td>\n",
              "      <td>0.0</td>\n",
              "      <td>0.0</td>\n",
              "      <td>0.00000</td>\n",
              "      <td>0.0</td>\n",
              "    </tr>\n",
              "    <tr>\n",
              "      <th>Resistance (Night School, #4)</th>\n",
              "      <td>0.0</td>\n",
              "      <td>0.0</td>\n",
              "      <td>0.0</td>\n",
              "      <td>0.0</td>\n",
              "      <td>0.0</td>\n",
              "      <td>0.0</td>\n",
              "      <td>0.0</td>\n",
              "      <td>0.0</td>\n",
              "      <td>0.00000</td>\n",
              "      <td>0.0</td>\n",
              "    </tr>\n",
              "    <tr>\n",
              "      <th>Doctor Who: Prisoner of the Daleks</th>\n",
              "      <td>0.0</td>\n",
              "      <td>0.0</td>\n",
              "      <td>0.0</td>\n",
              "      <td>0.0</td>\n",
              "      <td>0.0</td>\n",
              "      <td>0.0</td>\n",
              "      <td>0.0</td>\n",
              "      <td>0.0</td>\n",
              "      <td>0.00000</td>\n",
              "      <td>0.0</td>\n",
              "    </tr>\n",
              "    <tr>\n",
              "      <th>The Redheaded Princess</th>\n",
              "      <td>1.0</td>\n",
              "      <td>0.0</td>\n",
              "      <td>0.0</td>\n",
              "      <td>1.0</td>\n",
              "      <td>0.0</td>\n",
              "      <td>0.0</td>\n",
              "      <td>0.0</td>\n",
              "      <td>1.0</td>\n",
              "      <td>0.00000</td>\n",
              "      <td>0.0</td>\n",
              "    </tr>\n",
              "    <tr>\n",
              "      <th>Shatter (Joseph O'Loughlin, #3)</th>\n",
              "      <td>0.0</td>\n",
              "      <td>0.0</td>\n",
              "      <td>0.0</td>\n",
              "      <td>0.0</td>\n",
              "      <td>0.0</td>\n",
              "      <td>0.0</td>\n",
              "      <td>0.0</td>\n",
              "      <td>0.0</td>\n",
              "      <td>0.00000</td>\n",
              "      <td>0.0</td>\n",
              "    </tr>\n",
              "  </tbody>\n",
              "</table>\n",
              "</div>"
            ],
            "text/plain": [
              "title                               Ransom  ...  Phantom Prey (Lucas Davenport, #18)\n",
              "title                                       ...                                     \n",
              "A Bend in the Road                     0.0  ...                                  0.0\n",
              "A History of Polish Christianity       0.0  ...                                  0.0\n",
              "Southern Cross the Dog: A Novel        0.0  ...                                  0.0\n",
              "Starter for Ten                        0.0  ...                                  0.0\n",
              "Code Name Verity                       1.0  ...                                  0.0\n",
              "How Could She?                         0.0  ...                                  0.0\n",
              "Resistance (Night School, #4)          0.0  ...                                  0.0\n",
              "Doctor Who: Prisoner of the Daleks     0.0  ...                                  0.0\n",
              "The Redheaded Princess                 1.0  ...                                  0.0\n",
              "Shatter (Joseph O'Loughlin, #3)        0.0  ...                                  0.0\n",
              "\n",
              "[10 rows x 10 columns]"
            ]
          },
          "metadata": {},
          "execution_count": 626
        }
      ]
    },
    {
      "cell_type": "markdown",
      "metadata": {
        "id": "eh0IyKVkKxOh"
      },
      "source": [
        "# Recommendation Result for Content-Based Filtering"
      ]
    },
    {
      "cell_type": "code",
      "metadata": {
        "id": "rTR5K0miKw6u"
      },
      "source": [
        "def BookRecommendations(book_title, similarity_data=cosine_sim_df, \n",
        "                         items=df_book_cleaned[[\"id\",\"title\",\"genre\"]], k=25):\n",
        "  \n",
        "    ''' Mengambil data menggunakan argpartition untuk partisi secara tidak langsung,\n",
        "    sepanjang sumbu yang diberikan, kemudian dataframe diubah menjadi numpy Range \n",
        "    dengan parameter sebagai berikut (start, stop, step) '''\n",
        "    index = similarity_data.loc[:, book_title].to_numpy().argpartition(\n",
        "        range(-1, -k, -1)\n",
        "    )\n",
        "\n",
        "    # Mengambil data dengan similarity terbesar dari index yang ada\n",
        "    closest = similarity_data.columns[index[-1:-(k+2):-1]]\n",
        "\n",
        "    # Drop movie_title agar nama movie yang dicari tidak muncul dalam daftar rekomendasi\n",
        "    closest = closest.drop(book_title, errors='ignore')\n",
        "\n",
        "    return pd.DataFrame(closest).merge(items).head(k)"
      ],
      "execution_count": 633,
      "outputs": []
    },
    {
      "cell_type": "markdown",
      "metadata": {
        "id": "VZwsFnkgOUHX"
      },
      "source": [
        ""
      ]
    },
    {
      "cell_type": "code",
      "metadata": {
        "colab": {
          "base_uri": "https://localhost:8080/",
          "height": 81
        },
        "id": "ZCt__85GK6xJ",
        "outputId": "4f35baf1-0914-49ef-ba97-7ebfdb9fe6ff"
      },
      "source": [
        "# Check data lengkap sebuah title \n",
        "find_title = df_book_cleaned[df_book_cleaned['title'] == 'Wartime Farm']\n",
        "find_title"
      ],
      "execution_count": 634,
      "outputs": [
        {
          "output_type": "execute_result",
          "data": {
            "text/html": [
              "<div>\n",
              "<style scoped>\n",
              "    .dataframe tbody tr th:only-of-type {\n",
              "        vertical-align: middle;\n",
              "    }\n",
              "\n",
              "    .dataframe tbody tr th {\n",
              "        vertical-align: top;\n",
              "    }\n",
              "\n",
              "    .dataframe thead th {\n",
              "        text-align: right;\n",
              "    }\n",
              "</style>\n",
              "<table border=\"1\" class=\"dataframe\">\n",
              "  <thead>\n",
              "    <tr style=\"text-align: right;\">\n",
              "      <th></th>\n",
              "      <th>title</th>\n",
              "      <th>rate</th>\n",
              "      <th>genre</th>\n",
              "      <th>id</th>\n",
              "    </tr>\n",
              "  </thead>\n",
              "  <tbody>\n",
              "    <tr>\n",
              "      <th>5732</th>\n",
              "      <td>Wartime Farm</td>\n",
              "      <td>4.36</td>\n",
              "      <td>History</td>\n",
              "      <td>5732</td>\n",
              "    </tr>\n",
              "  </tbody>\n",
              "</table>\n",
              "</div>"
            ],
            "text/plain": [
              "             title  rate    genre    id\n",
              "5732  Wartime Farm  4.36  History  5732"
            ]
          },
          "metadata": {},
          "execution_count": 634
        }
      ]
    },
    {
      "cell_type": "code",
      "metadata": {
        "colab": {
          "base_uri": "https://localhost:8080/",
          "height": 833
        },
        "id": "XAlyUApiLAko",
        "outputId": "33d50b2c-620f-4db8-bcba-91b8b64ec231"
      },
      "source": [
        "book_suggestion = BookRecommendations(book_title = 'Wartime Farm')\n",
        "book_suggestion"
      ],
      "execution_count": 635,
      "outputs": [
        {
          "output_type": "execute_result",
          "data": {
            "text/html": [
              "<div>\n",
              "<style scoped>\n",
              "    .dataframe tbody tr th:only-of-type {\n",
              "        vertical-align: middle;\n",
              "    }\n",
              "\n",
              "    .dataframe tbody tr th {\n",
              "        vertical-align: top;\n",
              "    }\n",
              "\n",
              "    .dataframe thead th {\n",
              "        text-align: right;\n",
              "    }\n",
              "</style>\n",
              "<table border=\"1\" class=\"dataframe\">\n",
              "  <thead>\n",
              "    <tr style=\"text-align: right;\">\n",
              "      <th></th>\n",
              "      <th>title</th>\n",
              "      <th>id</th>\n",
              "      <th>genre</th>\n",
              "    </tr>\n",
              "  </thead>\n",
              "  <tbody>\n",
              "    <tr>\n",
              "      <th>0</th>\n",
              "      <td>The Swerve: How the World Became Modern</td>\n",
              "      <td>1951</td>\n",
              "      <td>History</td>\n",
              "    </tr>\n",
              "    <tr>\n",
              "      <th>1</th>\n",
              "      <td>A More Unbending Battle: The Harlem Hellfighte...</td>\n",
              "      <td>6651</td>\n",
              "      <td>History</td>\n",
              "    </tr>\n",
              "    <tr>\n",
              "      <th>2</th>\n",
              "      <td>The Witches: Salem, 1692</td>\n",
              "      <td>8933</td>\n",
              "      <td>History</td>\n",
              "    </tr>\n",
              "    <tr>\n",
              "      <th>3</th>\n",
              "      <td>Champlain's Dream</td>\n",
              "      <td>8950</td>\n",
              "      <td>History</td>\n",
              "    </tr>\n",
              "    <tr>\n",
              "      <th>4</th>\n",
              "      <td>A World Undone: The Story of the Great War, 19...</td>\n",
              "      <td>4440</td>\n",
              "      <td>History</td>\n",
              "    </tr>\n",
              "    <tr>\n",
              "      <th>5</th>\n",
              "      <td>The Devil's Chessboard: Allen Dulles, the CIA,...</td>\n",
              "      <td>6617</td>\n",
              "      <td>History</td>\n",
              "    </tr>\n",
              "    <tr>\n",
              "      <th>6</th>\n",
              "      <td>Angry Aztecs</td>\n",
              "      <td>8966</td>\n",
              "      <td>History</td>\n",
              "    </tr>\n",
              "    <tr>\n",
              "      <th>7</th>\n",
              "      <td>The Republic of Pirates: Being the True and Su...</td>\n",
              "      <td>8978</td>\n",
              "      <td>History</td>\n",
              "    </tr>\n",
              "    <tr>\n",
              "      <th>8</th>\n",
              "      <td>Wine and War: The French, the Nazis, and the B...</td>\n",
              "      <td>8987</td>\n",
              "      <td>History</td>\n",
              "    </tr>\n",
              "    <tr>\n",
              "      <th>9</th>\n",
              "      <td>The Fall of Berlin 1945</td>\n",
              "      <td>1856</td>\n",
              "      <td>History</td>\n",
              "    </tr>\n",
              "    <tr>\n",
              "      <th>10</th>\n",
              "      <td>Cobra II: The Inside Story of the Invasion and...</td>\n",
              "      <td>6577</td>\n",
              "      <td>History</td>\n",
              "    </tr>\n",
              "    <tr>\n",
              "      <th>11</th>\n",
              "      <td>Rough Crossings: Britain, the Slaves and the A...</td>\n",
              "      <td>9022</td>\n",
              "      <td>History</td>\n",
              "    </tr>\n",
              "    <tr>\n",
              "      <th>12</th>\n",
              "      <td>Caught in the Revolution: Petrograd, Russia, 1...</td>\n",
              "      <td>9029</td>\n",
              "      <td>History</td>\n",
              "    </tr>\n",
              "    <tr>\n",
              "      <th>13</th>\n",
              "      <td>Born Fighting: How the Scots-Irish Shaped America</td>\n",
              "      <td>6544</td>\n",
              "      <td>History</td>\n",
              "    </tr>\n",
              "    <tr>\n",
              "      <th>14</th>\n",
              "      <td>Napoleon: A Life</td>\n",
              "      <td>1920</td>\n",
              "      <td>History</td>\n",
              "    </tr>\n",
              "    <tr>\n",
              "      <th>15</th>\n",
              "      <td>Koba the Dread: Laughter and the Twenty Million</td>\n",
              "      <td>6534</td>\n",
              "      <td>History</td>\n",
              "    </tr>\n",
              "    <tr>\n",
              "      <th>16</th>\n",
              "      <td>A Writer at War: Vasily Grossman with the Red ...</td>\n",
              "      <td>9201</td>\n",
              "      <td>History</td>\n",
              "    </tr>\n",
              "    <tr>\n",
              "      <th>17</th>\n",
              "      <td>God's War: A New History of the Crusades</td>\n",
              "      <td>9084</td>\n",
              "      <td>History</td>\n",
              "    </tr>\n",
              "    <tr>\n",
              "      <th>18</th>\n",
              "      <td>American Caesars: Lives of the Presidents from...</td>\n",
              "      <td>9171</td>\n",
              "      <td>History</td>\n",
              "    </tr>\n",
              "    <tr>\n",
              "      <th>19</th>\n",
              "      <td>D-Day: The Battle for Normandy</td>\n",
              "      <td>9170</td>\n",
              "      <td>History</td>\n",
              "    </tr>\n",
              "    <tr>\n",
              "      <th>20</th>\n",
              "      <td>Bacardi and the Long Fight for Cuba: The Biogr...</td>\n",
              "      <td>9050</td>\n",
              "      <td>History</td>\n",
              "    </tr>\n",
              "    <tr>\n",
              "      <th>21</th>\n",
              "      <td>John Adams</td>\n",
              "      <td>790</td>\n",
              "      <td>History</td>\n",
              "    </tr>\n",
              "    <tr>\n",
              "      <th>22</th>\n",
              "      <td>His Excellency: George Washington</td>\n",
              "      <td>803</td>\n",
              "      <td>History</td>\n",
              "    </tr>\n",
              "    <tr>\n",
              "      <th>23</th>\n",
              "      <td>Forgotten Wars: The End Of Britain's Asian Empire</td>\n",
              "      <td>4711</td>\n",
              "      <td>History</td>\n",
              "    </tr>\n",
              "    <tr>\n",
              "      <th>24</th>\n",
              "      <td>Rethinking Our Past: Recognizing Facts, Fictio...</td>\n",
              "      <td>4598</td>\n",
              "      <td>History</td>\n",
              "    </tr>\n",
              "  </tbody>\n",
              "</table>\n",
              "</div>"
            ],
            "text/plain": [
              "                                                title    id    genre\n",
              "0             The Swerve: How the World Became Modern  1951  History\n",
              "1   A More Unbending Battle: The Harlem Hellfighte...  6651  History\n",
              "2                            The Witches: Salem, 1692  8933  History\n",
              "3                                   Champlain's Dream  8950  History\n",
              "4   A World Undone: The Story of the Great War, 19...  4440  History\n",
              "5   The Devil's Chessboard: Allen Dulles, the CIA,...  6617  History\n",
              "6                                        Angry Aztecs  8966  History\n",
              "7   The Republic of Pirates: Being the True and Su...  8978  History\n",
              "8   Wine and War: The French, the Nazis, and the B...  8987  History\n",
              "9                             The Fall of Berlin 1945  1856  History\n",
              "10  Cobra II: The Inside Story of the Invasion and...  6577  History\n",
              "11  Rough Crossings: Britain, the Slaves and the A...  9022  History\n",
              "12  Caught in the Revolution: Petrograd, Russia, 1...  9029  History\n",
              "13  Born Fighting: How the Scots-Irish Shaped America  6544  History\n",
              "14                                   Napoleon: A Life  1920  History\n",
              "15    Koba the Dread: Laughter and the Twenty Million  6534  History\n",
              "16  A Writer at War: Vasily Grossman with the Red ...  9201  History\n",
              "17           God's War: A New History of the Crusades  9084  History\n",
              "18  American Caesars: Lives of the Presidents from...  9171  History\n",
              "19                     D-Day: The Battle for Normandy  9170  History\n",
              "20  Bacardi and the Long Fight for Cuba: The Biogr...  9050  History\n",
              "21                                         John Adams   790  History\n",
              "22                  His Excellency: George Washington   803  History\n",
              "23  Forgotten Wars: The End Of Britain's Asian Empire  4711  History\n",
              "24  Rethinking Our Past: Recognizing Facts, Fictio...  4598  History"
            ]
          },
          "metadata": {},
          "execution_count": 635
        }
      ]
    }
  ]
}