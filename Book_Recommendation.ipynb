{
  "nbformat": 4,
  "nbformat_minor": 0,
  "metadata": {
    "colab": {
      "name": "Book Recommendation.ipynb",
      "provenance": [],
      "collapsed_sections": []
    },
    "kernelspec": {
      "name": "python3",
      "display_name": "Python 3"
    },
    "language_info": {
      "name": "python"
    }
  },
  "cells": [
    {
      "cell_type": "markdown",
      "metadata": {
        "id": "wxtKeW24u5ss"
      },
      "source": [
        "# **Profil**\n",
        "\n",
        "---\n",
        "\n",
        "SIB ID : M131S6091\n",
        "\n",
        "Nama : Muhammad Ilham Adhim\n",
        "\n",
        "SIB Email : M131S6091@dicoding.org"
      ]
    },
    {
      "cell_type": "markdown",
      "metadata": {
        "id": "ySBH6cPOZlXS"
      },
      "source": [
        "# Business Understanding"
      ]
    },
    {
      "cell_type": "markdown",
      "metadata": {
        "id": "xoBiXRIDoNnn"
      },
      "source": [
        "**Problem Statement**<br>\n",
        "> Banyaknya opsi buku dengan beragam kategori membuat pengguna menjadi bingung untuk memilih buku yang ingin dibaca. Maka dari itu, perlu adanya sistem rekomendasi buku untuk memberi saran buku yang dapat dibaca oleh pengguna\n",
        "\n",
        "\n",
        "<br>**Goal** <br>\n",
        "> Meningkatkan User Experience ketika mencari buku yang ingin dibaca\n",
        "\n",
        "\n",
        "<br>**Solution**<br>\n",
        "> Karena dataset terkait hanya berisi tentang detail buku dan genre , maka solusi yang sangat tepat untuk masalah ini adalah dengan menggunakan pendekatan Content-Based Filtering."
      ]
    },
    {
      "cell_type": "code",
      "metadata": {
        "colab": {
          "base_uri": "https://localhost:8080/"
        },
        "id": "RmSPQUvG8X1j",
        "outputId": "15c5a1b8-5645-4763-c37f-4a00cd90ccfa"
      },
      "source": [
        "!pip install opendatasets"
      ],
      "execution_count": 1,
      "outputs": [
        {
          "output_type": "stream",
          "name": "stdout",
          "text": [
            "Requirement already satisfied: opendatasets in /usr/local/lib/python3.7/dist-packages (0.1.20)\n",
            "Requirement already satisfied: kaggle in /usr/local/lib/python3.7/dist-packages (from opendatasets) (1.5.12)\n",
            "Requirement already satisfied: tqdm in /usr/local/lib/python3.7/dist-packages (from opendatasets) (4.62.3)\n",
            "Requirement already satisfied: click in /usr/local/lib/python3.7/dist-packages (from opendatasets) (7.1.2)\n",
            "Requirement already satisfied: python-slugify in /usr/local/lib/python3.7/dist-packages (from kaggle->opendatasets) (5.0.2)\n",
            "Requirement already satisfied: requests in /usr/local/lib/python3.7/dist-packages (from kaggle->opendatasets) (2.23.0)\n",
            "Requirement already satisfied: certifi in /usr/local/lib/python3.7/dist-packages (from kaggle->opendatasets) (2021.10.8)\n",
            "Requirement already satisfied: six>=1.10 in /usr/local/lib/python3.7/dist-packages (from kaggle->opendatasets) (1.15.0)\n",
            "Requirement already satisfied: python-dateutil in /usr/local/lib/python3.7/dist-packages (from kaggle->opendatasets) (2.8.2)\n",
            "Requirement already satisfied: urllib3 in /usr/local/lib/python3.7/dist-packages (from kaggle->opendatasets) (1.24.3)\n",
            "Requirement already satisfied: text-unidecode>=1.3 in /usr/local/lib/python3.7/dist-packages (from python-slugify->kaggle->opendatasets) (1.3)\n",
            "Requirement already satisfied: idna<3,>=2.5 in /usr/local/lib/python3.7/dist-packages (from requests->kaggle->opendatasets) (2.10)\n",
            "Requirement already satisfied: chardet<4,>=3.0.2 in /usr/local/lib/python3.7/dist-packages (from requests->kaggle->opendatasets) (3.0.4)\n"
          ]
        }
      ]
    },
    {
      "cell_type": "code",
      "metadata": {
        "id": "s4Ne9i6Q8iJi"
      },
      "source": [
        "import numpy as np\n",
        "import matplotlib.pyplot as plt\n",
        "import pandas as pd\n",
        "%matplotlib inline\n",
        "import seaborn as sns\n",
        "import tensorflow as tf\n",
        "\n",
        "from scipy.sparse import csr_matrix\n",
        "from sklearn.metrics.pairwise import cosine_similarity\n",
        "\n",
        "from sklearn.feature_extraction.text import TfidfVectorizer\n",
        "from sklearn.metrics.pairwise import cosine_similarity\n",
        "\n",
        "import opendatasets as od"
      ],
      "execution_count": 2,
      "outputs": []
    },
    {
      "cell_type": "code",
      "metadata": {
        "colab": {
          "base_uri": "https://localhost:8080/"
        },
        "id": "YniPSQiE83Jd",
        "outputId": "da4d5340-2608-45cb-8a6e-ed31fc76685b"
      },
      "source": [
        "od.download(\"https://www.kaggle.com/justinnguyen0x0x/best-books-of-the-21st-century-dataset\")"
      ],
      "execution_count": 3,
      "outputs": [
        {
          "output_type": "stream",
          "name": "stdout",
          "text": [
            "Skipping, found downloaded files in \"./best-books-of-the-21st-century-dataset\" (use force=True to force download)\n"
          ]
        }
      ]
    },
    {
      "cell_type": "code",
      "metadata": {
        "colab": {
          "base_uri": "https://localhost:8080/",
          "height": 1000
        },
        "id": "Nnir1b4i9KGO",
        "outputId": "a6716c09-7e9f-436c-f5e4-1cb5268e3471"
      },
      "source": [
        "df_book_list = pd.read_csv('/content/best-books-of-the-21st-century-dataset/Best_Book_21st.csv', parse_dates=True, squeeze=True)\n",
        "df_book_list"
      ],
      "execution_count": 4,
      "outputs": [
        {
          "output_type": "execute_result",
          "data": {
            "text/html": [
              "<div>\n",
              "<style scoped>\n",
              "    .dataframe tbody tr th:only-of-type {\n",
              "        vertical-align: middle;\n",
              "    }\n",
              "\n",
              "    .dataframe tbody tr th {\n",
              "        vertical-align: top;\n",
              "    }\n",
              "\n",
              "    .dataframe thead th {\n",
              "        text-align: right;\n",
              "    }\n",
              "</style>\n",
              "<table border=\"1\" class=\"dataframe\">\n",
              "  <thead>\n",
              "    <tr style=\"text-align: right;\">\n",
              "      <th></th>\n",
              "      <th>id</th>\n",
              "      <th>title</th>\n",
              "      <th>series</th>\n",
              "      <th>author</th>\n",
              "      <th>book_link</th>\n",
              "      <th>genre</th>\n",
              "      <th>date_published</th>\n",
              "      <th>publisher</th>\n",
              "      <th>num_of_page</th>\n",
              "      <th>lang</th>\n",
              "      <th>review_count</th>\n",
              "      <th>rating_count</th>\n",
              "      <th>rate</th>\n",
              "      <th>award</th>\n",
              "    </tr>\n",
              "  </thead>\n",
              "  <tbody>\n",
              "    <tr>\n",
              "      <th>0</th>\n",
              "      <td>0</td>\n",
              "      <td>The Martian</td>\n",
              "      <td>\\n        (The Martian #1)\\n</td>\n",
              "      <td>Andy Weir</td>\n",
              "      <td>https://www.goodreads.com/book/show/18007564-t...</td>\n",
              "      <td>Science Fiction,Fiction,Audiobook,Adventure,Sp...</td>\n",
              "      <td>February 11th 2014</td>\n",
              "      <td>Crown\\n\\n            ,</td>\n",
              "      <td>384.0</td>\n",
              "      <td>English</td>\n",
              "      <td>77,156</td>\n",
              "      <td>919,781</td>\n",
              "      <td>4.40</td>\n",
              "      <td>Kurd-Laßwitz-Preis for Bestes ausländisches We...</td>\n",
              "    </tr>\n",
              "    <tr>\n",
              "      <th>1</th>\n",
              "      <td>1</td>\n",
              "      <td>Under the Banner of Heaven: A Story of Violent...</td>\n",
              "      <td>NaN</td>\n",
              "      <td>Jon Krakauer</td>\n",
              "      <td>https://www.goodreads.com/book/show/10847.Unde...</td>\n",
              "      <td>Nonfiction,Religion,History,Crime,True Crime,M...</td>\n",
              "      <td>2004</td>\n",
              "      <td>Pan MacMillan\\n\\n            ,</td>\n",
              "      <td>400.0</td>\n",
              "      <td>English</td>\n",
              "      <td>10,981</td>\n",
              "      <td>173,895</td>\n",
              "      <td>3.98</td>\n",
              "      <td>Colorado Book Award for General Nonfiction (2004)</td>\n",
              "    </tr>\n",
              "    <tr>\n",
              "      <th>2</th>\n",
              "      <td>2</td>\n",
              "      <td>Cutting for Stone</td>\n",
              "      <td>NaN</td>\n",
              "      <td>Abraham   Verghese</td>\n",
              "      <td>https://www.goodreads.com/book/show/3591262-cu...</td>\n",
              "      <td>Fiction,Historical,Historical Fiction,Cultural...</td>\n",
              "      <td>February 3rd 2009</td>\n",
              "      <td>Alfred A. Knopf\\n\\n            ,</td>\n",
              "      <td>541.0</td>\n",
              "      <td>English</td>\n",
              "      <td>26,253</td>\n",
              "      <td>353,365</td>\n",
              "      <td>4.29</td>\n",
              "      <td>PEN/Hemingway Foundation Award Nominee (2010),...</td>\n",
              "    </tr>\n",
              "    <tr>\n",
              "      <th>3</th>\n",
              "      <td>3</td>\n",
              "      <td>We Need to Talk About Kevin</td>\n",
              "      <td>NaN</td>\n",
              "      <td>Lionel Shriver</td>\n",
              "      <td>https://www.goodreads.com/book/show/80660.We_N...</td>\n",
              "      <td>Fiction,Contemporary,Thriller,Horror,Mystery,C...</td>\n",
              "      <td>July 3rd 2006</td>\n",
              "      <td>Harper Perennial\\n\\n            ,</td>\n",
              "      <td>400.0</td>\n",
              "      <td>English</td>\n",
              "      <td>14,787</td>\n",
              "      <td>187,639</td>\n",
              "      <td>4.04</td>\n",
              "      <td>Orange Prize for Fiction (2005)</td>\n",
              "    </tr>\n",
              "    <tr>\n",
              "      <th>4</th>\n",
              "      <td>4</td>\n",
              "      <td>The Immortal Life of Henrietta Lacks</td>\n",
              "      <td>NaN</td>\n",
              "      <td>Rebecca Skloot</td>\n",
              "      <td>https://www.goodreads.com/book/show/6493208-th...</td>\n",
              "      <td>Nonfiction,Science,History,Biography,Health,Me...</td>\n",
              "      <td>February 2nd 2010</td>\n",
              "      <td>Crown Publishing Group\\n\\n            ,</td>\n",
              "      <td>370.0</td>\n",
              "      <td>English</td>\n",
              "      <td>36,574</td>\n",
              "      <td>646,155</td>\n",
              "      <td>4.07</td>\n",
              "      <td>Ambassador Book Award for American Studies (20...</td>\n",
              "    </tr>\n",
              "    <tr>\n",
              "      <th>...</th>\n",
              "      <td>...</td>\n",
              "      <td>...</td>\n",
              "      <td>...</td>\n",
              "      <td>...</td>\n",
              "      <td>...</td>\n",
              "      <td>...</td>\n",
              "      <td>...</td>\n",
              "      <td>...</td>\n",
              "      <td>...</td>\n",
              "      <td>...</td>\n",
              "      <td>...</td>\n",
              "      <td>...</td>\n",
              "      <td>...</td>\n",
              "      <td>...</td>\n",
              "    </tr>\n",
              "    <tr>\n",
              "      <th>10013</th>\n",
              "      <td>10013</td>\n",
              "      <td>Edge of Passion (Stealth Guardians, #1)</td>\n",
              "      <td>\\n        (Stealth Guardians #1)\\n</td>\n",
              "      <td>Tina Folsom</td>\n",
              "      <td>https://www.goodreads.com/book/show/13516444-e...</td>\n",
              "      <td>Fantasy,Paranormal,Romance,Romance,Paranormal ...</td>\n",
              "      <td>March 7th 2012</td>\n",
              "      <td>NaN</td>\n",
              "      <td>NaN</td>\n",
              "      <td>English</td>\n",
              "      <td>102</td>\n",
              "      <td>1,011</td>\n",
              "      <td>4.01</td>\n",
              "      <td>NaN</td>\n",
              "    </tr>\n",
              "    <tr>\n",
              "      <th>10014</th>\n",
              "      <td>10014</td>\n",
              "      <td>Tales from a Not-So-Popular Party Girl (Dork D...</td>\n",
              "      <td>\\n        (Dork Diaries #2)\\n</td>\n",
              "      <td>Rachel Renée Russell</td>\n",
              "      <td>https://www.goodreads.com/book/show/8274537-ta...</td>\n",
              "      <td>Childrens,Middle Grade,Realistic Fiction,Child...</td>\n",
              "      <td>June 8th 2010</td>\n",
              "      <td>Aladdin</td>\n",
              "      <td>288.0</td>\n",
              "      <td>English</td>\n",
              "      <td>1,480</td>\n",
              "      <td>54,285</td>\n",
              "      <td>4.24</td>\n",
              "      <td>NaN</td>\n",
              "    </tr>\n",
              "    <tr>\n",
              "      <th>10015</th>\n",
              "      <td>10015</td>\n",
              "      <td>Bottoms</td>\n",
              "      <td>NaN</td>\n",
              "      <td>Tanja Kirschner</td>\n",
              "      <td>https://www.goodreads.com/book/show/2024071.Bo...</td>\n",
              "      <td>NaN</td>\n",
              "      <td>September 1st 2005</td>\n",
              "      <td>NorthSouth\\n\\n            ,</td>\n",
              "      <td>24.0</td>\n",
              "      <td>English</td>\n",
              "      <td>5</td>\n",
              "      <td>11</td>\n",
              "      <td>3.55</td>\n",
              "      <td>NaN</td>\n",
              "    </tr>\n",
              "    <tr>\n",
              "      <th>10016</th>\n",
              "      <td>10016</td>\n",
              "      <td>The Wedding Dress</td>\n",
              "      <td>NaN</td>\n",
              "      <td>Gary E. Parker</td>\n",
              "      <td>https://www.goodreads.com/book/show/783968.The...</td>\n",
              "      <td>NaN</td>\n",
              "      <td>January 9th 2002</td>\n",
              "      <td>Victor\\n\\n            ,</td>\n",
              "      <td>123.0</td>\n",
              "      <td>English</td>\n",
              "      <td>2</td>\n",
              "      <td>23</td>\n",
              "      <td>3.61</td>\n",
              "      <td>NaN</td>\n",
              "    </tr>\n",
              "    <tr>\n",
              "      <th>10017</th>\n",
              "      <td>10017</td>\n",
              "      <td>The Immortal Hunter (Argeneau #11; Rogue Hunte...</td>\n",
              "      <td>\\n        (Argeneau #11)\\n</td>\n",
              "      <td>Lynsay Sands</td>\n",
              "      <td>https://www.goodreads.com/book/show/3942622-th...</td>\n",
              "      <td>Romance,Paranormal Romance,Paranormal,Vampires...</td>\n",
              "      <td>March 31st 2009</td>\n",
              "      <td>Avon</td>\n",
              "      <td>360.0</td>\n",
              "      <td>English</td>\n",
              "      <td>383</td>\n",
              "      <td>14,498</td>\n",
              "      <td>4.22</td>\n",
              "      <td>NaN</td>\n",
              "    </tr>\n",
              "  </tbody>\n",
              "</table>\n",
              "<p>10018 rows × 14 columns</p>\n",
              "</div>"
            ],
            "text/plain": [
              "          id  ...                                              award\n",
              "0          0  ...  Kurd-Laßwitz-Preis for Bestes ausländisches We...\n",
              "1          1  ...  Colorado Book Award for General Nonfiction (2004)\n",
              "2          2  ...  PEN/Hemingway Foundation Award Nominee (2010),...\n",
              "3          3  ...                    Orange Prize for Fiction (2005)\n",
              "4          4  ...  Ambassador Book Award for American Studies (20...\n",
              "...      ...  ...                                                ...\n",
              "10013  10013  ...                                                NaN\n",
              "10014  10014  ...                                                NaN\n",
              "10015  10015  ...                                                NaN\n",
              "10016  10016  ...                                                NaN\n",
              "10017  10017  ...                                                NaN\n",
              "\n",
              "[10018 rows x 14 columns]"
            ]
          },
          "metadata": {},
          "execution_count": 4
        }
      ]
    },
    {
      "cell_type": "markdown",
      "metadata": {
        "id": "zKU5zGJ-9XY_"
      },
      "source": [
        "# Data Understanding\n",
        "Untuk submission ini, saya mengambil data dari Kaggle yang bernama Best Books of The 21st Century Dataset. Berikut adalah daftar kolom di file CSV yang tersedia:\n",
        "* id: id of the book\n",
        "* title: book's title\n",
        "* series: book's series. If the book doesn't belong to any series the value will be null\n",
        "* author: author of the book\n",
        "* book_link: book's URL on GoodReads\n",
        "* genre: genres of the book (ordered by number of genre votes)\n",
        "* date_published: published date\n",
        "* publisher: publisher of the book\n",
        "* num_of_page: number of pages\n",
        "* lang: language of the book\n",
        "* review_count: number of reviews\n",
        "* rating_count: number of ratings\n",
        "* rate: rating\n",
        "* award: awards of the book"
      ]
    },
    {
      "cell_type": "code",
      "metadata": {
        "colab": {
          "base_uri": "https://localhost:8080/"
        },
        "id": "T2-NGkBr-PVn",
        "outputId": "4b5f9264-ebbb-4f91-8ca0-41eaf2eaa275"
      },
      "source": [
        "df_book_list.info()"
      ],
      "execution_count": 5,
      "outputs": [
        {
          "output_type": "stream",
          "name": "stdout",
          "text": [
            "<class 'pandas.core.frame.DataFrame'>\n",
            "RangeIndex: 10018 entries, 0 to 10017\n",
            "Data columns (total 14 columns):\n",
            " #   Column          Non-Null Count  Dtype  \n",
            "---  ------          --------------  -----  \n",
            " 0   id              10018 non-null  int64  \n",
            " 1   title           10018 non-null  object \n",
            " 2   series          4341 non-null   object \n",
            " 3   author          10003 non-null  object \n",
            " 4   book_link       10018 non-null  object \n",
            " 5   genre           9019 non-null   object \n",
            " 6   date_published  9970 non-null   object \n",
            " 7   publisher       9624 non-null   object \n",
            " 8   num_of_page     9737 non-null   float64\n",
            " 9   lang            9503 non-null   object \n",
            " 10  review_count    10003 non-null  object \n",
            " 11  rating_count    10003 non-null  object \n",
            " 12  rate            10003 non-null  float64\n",
            " 13  award           4024 non-null   object \n",
            "dtypes: float64(2), int64(1), object(11)\n",
            "memory usage: 1.1+ MB\n"
          ]
        }
      ]
    },
    {
      "cell_type": "code",
      "metadata": {
        "colab": {
          "base_uri": "https://localhost:8080/"
        },
        "id": "6xr3wiRuArzc",
        "outputId": "76590acf-a7b3-4c05-a068-d27d4eda8fde"
      },
      "source": [
        "df_book_list['rate'].describe()"
      ],
      "execution_count": 6,
      "outputs": [
        {
          "output_type": "execute_result",
          "data": {
            "text/plain": [
              "count    10003.000000\n",
              "mean         3.987817\n",
              "std          0.342731\n",
              "min          0.000000\n",
              "25%          3.790000\n",
              "50%          3.990000\n",
              "75%          4.190000\n",
              "max          5.000000\n",
              "Name: rate, dtype: float64"
            ]
          },
          "metadata": {},
          "execution_count": 6
        }
      ]
    },
    {
      "cell_type": "code",
      "metadata": {
        "colab": {
          "base_uri": "https://localhost:8080/",
          "height": 510
        },
        "id": "16atc8kXZ4sj",
        "outputId": "08f820aa-283e-42c4-94ea-3d4c5171b09e"
      },
      "source": [
        "for x in range(len(df_book_list)):\n",
        "  df_book_list['genre'][x] = str(df_book_list['genre'][x]).split(',')[0]\n",
        "\n",
        "df_book_list[['genre', 'title']]"
      ],
      "execution_count": 7,
      "outputs": [
        {
          "output_type": "stream",
          "name": "stderr",
          "text": [
            "/usr/local/lib/python3.7/dist-packages/ipykernel_launcher.py:2: SettingWithCopyWarning: \n",
            "A value is trying to be set on a copy of a slice from a DataFrame\n",
            "\n",
            "See the caveats in the documentation: https://pandas.pydata.org/pandas-docs/stable/user_guide/indexing.html#returning-a-view-versus-a-copy\n",
            "  \n"
          ]
        },
        {
          "output_type": "execute_result",
          "data": {
            "text/html": [
              "<div>\n",
              "<style scoped>\n",
              "    .dataframe tbody tr th:only-of-type {\n",
              "        vertical-align: middle;\n",
              "    }\n",
              "\n",
              "    .dataframe tbody tr th {\n",
              "        vertical-align: top;\n",
              "    }\n",
              "\n",
              "    .dataframe thead th {\n",
              "        text-align: right;\n",
              "    }\n",
              "</style>\n",
              "<table border=\"1\" class=\"dataframe\">\n",
              "  <thead>\n",
              "    <tr style=\"text-align: right;\">\n",
              "      <th></th>\n",
              "      <th>genre</th>\n",
              "      <th>title</th>\n",
              "    </tr>\n",
              "  </thead>\n",
              "  <tbody>\n",
              "    <tr>\n",
              "      <th>0</th>\n",
              "      <td>Science Fiction</td>\n",
              "      <td>The Martian</td>\n",
              "    </tr>\n",
              "    <tr>\n",
              "      <th>1</th>\n",
              "      <td>Nonfiction</td>\n",
              "      <td>Under the Banner of Heaven: A Story of Violent...</td>\n",
              "    </tr>\n",
              "    <tr>\n",
              "      <th>2</th>\n",
              "      <td>Fiction</td>\n",
              "      <td>Cutting for Stone</td>\n",
              "    </tr>\n",
              "    <tr>\n",
              "      <th>3</th>\n",
              "      <td>Fiction</td>\n",
              "      <td>We Need to Talk About Kevin</td>\n",
              "    </tr>\n",
              "    <tr>\n",
              "      <th>4</th>\n",
              "      <td>Nonfiction</td>\n",
              "      <td>The Immortal Life of Henrietta Lacks</td>\n",
              "    </tr>\n",
              "    <tr>\n",
              "      <th>...</th>\n",
              "      <td>...</td>\n",
              "      <td>...</td>\n",
              "    </tr>\n",
              "    <tr>\n",
              "      <th>10013</th>\n",
              "      <td>Fantasy</td>\n",
              "      <td>Edge of Passion (Stealth Guardians, #1)</td>\n",
              "    </tr>\n",
              "    <tr>\n",
              "      <th>10014</th>\n",
              "      <td>Childrens</td>\n",
              "      <td>Tales from a Not-So-Popular Party Girl (Dork D...</td>\n",
              "    </tr>\n",
              "    <tr>\n",
              "      <th>10015</th>\n",
              "      <td>nan</td>\n",
              "      <td>Bottoms</td>\n",
              "    </tr>\n",
              "    <tr>\n",
              "      <th>10016</th>\n",
              "      <td>nan</td>\n",
              "      <td>The Wedding Dress</td>\n",
              "    </tr>\n",
              "    <tr>\n",
              "      <th>10017</th>\n",
              "      <td>Romance</td>\n",
              "      <td>The Immortal Hunter (Argeneau #11; Rogue Hunte...</td>\n",
              "    </tr>\n",
              "  </tbody>\n",
              "</table>\n",
              "<p>10018 rows × 2 columns</p>\n",
              "</div>"
            ],
            "text/plain": [
              "                 genre                                              title\n",
              "0      Science Fiction                                        The Martian\n",
              "1           Nonfiction  Under the Banner of Heaven: A Story of Violent...\n",
              "2              Fiction                                  Cutting for Stone\n",
              "3              Fiction                        We Need to Talk About Kevin\n",
              "4           Nonfiction               The Immortal Life of Henrietta Lacks\n",
              "...                ...                                                ...\n",
              "10013          Fantasy            Edge of Passion (Stealth Guardians, #1)\n",
              "10014        Childrens  Tales from a Not-So-Popular Party Girl (Dork D...\n",
              "10015              nan                                            Bottoms\n",
              "10016              nan                                  The Wedding Dress\n",
              "10017          Romance  The Immortal Hunter (Argeneau #11; Rogue Hunte...\n",
              "\n",
              "[10018 rows x 2 columns]"
            ]
          },
          "metadata": {},
          "execution_count": 7
        }
      ]
    },
    {
      "cell_type": "code",
      "metadata": {
        "colab": {
          "base_uri": "https://localhost:8080/"
        },
        "id": "PTYp4QB4e8H_",
        "outputId": "eda6e3b5-e644-4e1d-f1ee-6032c79ef7de"
      },
      "source": [
        "# Available genres:\n",
        "genres = df_book_list['genre'].unique().tolist()\n",
        "print(\"All genres : {}\".format(genres))\n",
        "print(\"Genres amount : {}\".format(len(genres)))"
      ],
      "execution_count": 8,
      "outputs": [
        {
          "output_type": "stream",
          "name": "stdout",
          "text": [
            "All genres : ['Science Fiction', 'Nonfiction', 'Fiction', 'Fantasy', 'Young Adult', 'Historical', 'nan', 'Romance', 'Autobiography', 'Horror', 'Mystery', 'Christian', 'Womens Fiction', 'Sequential Art', 'Short Stories', 'History', 'Humor', 'Food and Drink', 'Contemporary', 'Travel', 'Adventure', 'Christian Fiction', 'Polyamorous', 'Poetry', 'Drama', 'Biography', 'Suspense', 'Music', 'Realistic Fiction', 'Thriller', 'War', 'Business', 'New Adult', 'Cultural', 'Paranormal', 'Science Fiction Fantasy', 'Artificial Intelligence', 'Art', 'Politics', 'Dark', 'Parenting', 'Childrens', 'Psychology', 'Philosophy', 'Epic', 'Erotica', 'Science', 'Spirituality', 'Religion', 'Plays', 'LGBT', 'Environment', 'Self Help', 'Animals', 'Cities', 'Education', 'Economics', 'Holiday', 'Crime', 'Novels', 'Health', 'Feminism', 'Classics', 'Marriage', 'Media Tie In', 'Sports', 'Writing', 'Amish', 'Inspirational', 'Computer Science', 'Humanities', 'Language', 'Eastern Africa', 'Adult Fiction', 'Architecture', 'Sexuality', 'Shapeshifters', 'Christianity', 'Folklore', 'Literature', 'Design', 'Urban', 'European Literature', 'Apocalyptic', 'Asian Literature', 'Dungeons and Dragons', 'Northern Africa', 'Reference', 'Mythology', 'Culture', 'Gothic', 'Family', 'Football', 'Pseudoscience', 'Death', 'Labor', 'North American Hi...', 'Horticulture', 'Aviation', 'Criticism', 'Fan Fiction', 'Games', 'Social Science', 'Teaching', 'Medical', 'Sociology', 'Neurodiversity', 'Superheroes', 'World War II', 'New York', 'Academic', 'Leadership', 'Prayer']\n",
            "Genres amount : 113\n"
          ]
        }
      ]
    },
    {
      "cell_type": "markdown",
      "metadata": {
        "id": "wyjdjRi-tksE"
      },
      "source": [
        "### Visualisasi Top 10 Publisher"
      ]
    },
    {
      "cell_type": "markdown",
      "metadata": {
        "id": "pIzIKCZoqrm_"
      },
      "source": [
        "Melihat berapa banyak buku yang telah dipublish oleh top 10 publisher"
      ]
    },
    {
      "cell_type": "code",
      "metadata": {
        "colab": {
          "base_uri": "https://localhost:8080/",
          "height": 394
        },
        "id": "k9HzBJIdvhUX",
        "outputId": "2949e3e2-68ea-4392-9b5b-fd1aeaac8d37"
      },
      "source": [
        "df_top_publishers = df_book_list.groupby('publisher')['title'].count().reset_index().sort_values('title', ascending=False).head(10).set_index('publisher')\n",
        "df_top_publishers"
      ],
      "execution_count": 9,
      "outputs": [
        {
          "output_type": "execute_result",
          "data": {
            "text/html": [
              "<div>\n",
              "<style scoped>\n",
              "    .dataframe tbody tr th:only-of-type {\n",
              "        vertical-align: middle;\n",
              "    }\n",
              "\n",
              "    .dataframe tbody tr th {\n",
              "        vertical-align: top;\n",
              "    }\n",
              "\n",
              "    .dataframe thead th {\n",
              "        text-align: right;\n",
              "    }\n",
              "</style>\n",
              "<table border=\"1\" class=\"dataframe\">\n",
              "  <thead>\n",
              "    <tr style=\"text-align: right;\">\n",
              "      <th></th>\n",
              "      <th>title</th>\n",
              "    </tr>\n",
              "    <tr>\n",
              "      <th>publisher</th>\n",
              "      <th></th>\n",
              "    </tr>\n",
              "  </thead>\n",
              "  <tbody>\n",
              "    <tr>\n",
              "      <th>Vintage\\n\\n            ,</th>\n",
              "      <td>95</td>\n",
              "    </tr>\n",
              "    <tr>\n",
              "      <th>Little, Brown and Company</th>\n",
              "      <td>68</td>\n",
              "    </tr>\n",
              "    <tr>\n",
              "      <th>HarperCollins</th>\n",
              "      <td>68</td>\n",
              "    </tr>\n",
              "    <tr>\n",
              "      <th>Grand Central Publishing\\n\\n            ,</th>\n",
              "      <td>62</td>\n",
              "    </tr>\n",
              "    <tr>\n",
              "      <th>St. Martin's Press</th>\n",
              "      <td>58</td>\n",
              "    </tr>\n",
              "    <tr>\n",
              "      <th>Random House</th>\n",
              "      <td>57</td>\n",
              "    </tr>\n",
              "    <tr>\n",
              "      <th>Penguin Books\\n\\n            ,</th>\n",
              "      <td>57</td>\n",
              "    </tr>\n",
              "    <tr>\n",
              "      <th>Knopf</th>\n",
              "      <td>52</td>\n",
              "    </tr>\n",
              "    <tr>\n",
              "      <th>William Morrow</th>\n",
              "      <td>52</td>\n",
              "    </tr>\n",
              "    <tr>\n",
              "      <th>Harper\\n\\n            ,</th>\n",
              "      <td>46</td>\n",
              "    </tr>\n",
              "  </tbody>\n",
              "</table>\n",
              "</div>"
            ],
            "text/plain": [
              "                                           title\n",
              "publisher                                       \n",
              "Vintage\\n\\n            ,                      95\n",
              "Little, Brown and Company                     68\n",
              "HarperCollins                                 68\n",
              "Grand Central Publishing\\n\\n            ,     62\n",
              "St. Martin's Press                            58\n",
              "Random House                                  57\n",
              "Penguin Books\\n\\n            ,                57\n",
              "Knopf                                         52\n",
              "William Morrow                                52\n",
              "Harper\\n\\n            ,                       46"
            ]
          },
          "metadata": {},
          "execution_count": 9
        }
      ]
    },
    {
      "cell_type": "code",
      "metadata": {
        "colab": {
          "base_uri": "https://localhost:8080/",
          "height": 702
        },
        "id": "8YahQW7Iqh4h",
        "outputId": "dc127df9-45a0-4831-bf25-4df433f9d481"
      },
      "source": [
        "# Pembuatan plot top 10 publishers\n",
        "sns.set_context('talk')\n",
        "plt.figure(figsize=(15,10))\n",
        "ax = sns.barplot(df_top_publishers['title'], df_top_publishers.index, palette='icefire_r')\n",
        "ax.set_title(\"Top 10 publishers with most books\")\n",
        "ax.set_xlabel(\"Total number of books\")\n",
        "for i in ax.patches:\n",
        "    ax.text(i.get_width()+.3, i.get_y()+0.5, str(round(i.get_width())), fontsize = 10, color = 'k')"
      ],
      "execution_count": 10,
      "outputs": [
        {
          "output_type": "stream",
          "name": "stderr",
          "text": [
            "/usr/local/lib/python3.7/dist-packages/seaborn/_decorators.py:43: FutureWarning: Pass the following variables as keyword args: x, y. From version 0.12, the only valid positional argument will be `data`, and passing other arguments without an explicit keyword will result in an error or misinterpretation.\n",
            "  FutureWarning\n"
          ]
        },
        {
          "output_type": "display_data",
          "data": {
            "image/png": "[encoded data removed]",
            "text/plain": [
              "<Figure size 1080x720 with 1 Axes>"
            ]
          },
          "metadata": {
            "needs_background": "light"
          }
        }
      ]
    },
    {
      "cell_type": "markdown",
      "metadata": {
        "id": "bKhbHOl3tp6U"
      },
      "source": [
        "### Visualisasi persebaran genre"
      ]
    },
    {
      "cell_type": "markdown",
      "metadata": {
        "id": "6ees09Z3q4lo"
      },
      "source": [
        "Melihat persebaran genre dari buku buku yang ada"
      ]
    },
    {
      "cell_type": "code",
      "metadata": {
        "colab": {
          "base_uri": "https://localhost:8080/",
          "height": 363
        },
        "id": "wh5CsUVUvJww",
        "outputId": "1f663c9a-0756-46ac-9173-733f87f7ca69"
      },
      "source": [
        "df_visual_genres = df_book_list.groupby('genre')['title'].count().reset_index().sort_values('title', ascending=False).head(10)\n",
        "df_visual_genres"
      ],
      "execution_count": 11,
      "outputs": [
        {
          "output_type": "execute_result",
          "data": {
            "text/html": [
              "<div>\n",
              "<style scoped>\n",
              "    .dataframe tbody tr th:only-of-type {\n",
              "        vertical-align: middle;\n",
              "    }\n",
              "\n",
              "    .dataframe tbody tr th {\n",
              "        vertical-align: top;\n",
              "    }\n",
              "\n",
              "    .dataframe thead th {\n",
              "        text-align: right;\n",
              "    }\n",
              "</style>\n",
              "<table border=\"1\" class=\"dataframe\">\n",
              "  <thead>\n",
              "    <tr style=\"text-align: right;\">\n",
              "      <th></th>\n",
              "      <th>genre</th>\n",
              "      <th>title</th>\n",
              "    </tr>\n",
              "  </thead>\n",
              "  <tbody>\n",
              "    <tr>\n",
              "      <th>42</th>\n",
              "      <td>Fiction</td>\n",
              "      <td>1654</td>\n",
              "    </tr>\n",
              "    <tr>\n",
              "      <th>40</th>\n",
              "      <td>Fantasy</td>\n",
              "      <td>1556</td>\n",
              "    </tr>\n",
              "    <tr>\n",
              "      <th>112</th>\n",
              "      <td>nan</td>\n",
              "      <td>999</td>\n",
              "    </tr>\n",
              "    <tr>\n",
              "      <th>71</th>\n",
              "      <td>Nonfiction</td>\n",
              "      <td>783</td>\n",
              "    </tr>\n",
              "    <tr>\n",
              "      <th>111</th>\n",
              "      <td>Young Adult</td>\n",
              "      <td>709</td>\n",
              "    </tr>\n",
              "    <tr>\n",
              "      <th>49</th>\n",
              "      <td>Historical</td>\n",
              "      <td>657</td>\n",
              "    </tr>\n",
              "    <tr>\n",
              "      <th>66</th>\n",
              "      <td>Mystery</td>\n",
              "      <td>467</td>\n",
              "    </tr>\n",
              "    <tr>\n",
              "      <th>88</th>\n",
              "      <td>Romance</td>\n",
              "      <td>434</td>\n",
              "    </tr>\n",
              "    <tr>\n",
              "      <th>90</th>\n",
              "      <td>Science Fiction</td>\n",
              "      <td>346</td>\n",
              "    </tr>\n",
              "    <tr>\n",
              "      <th>50</th>\n",
              "      <td>History</td>\n",
              "      <td>322</td>\n",
              "    </tr>\n",
              "  </tbody>\n",
              "</table>\n",
              "</div>"
            ],
            "text/plain": [
              "               genre  title\n",
              "42           Fiction   1654\n",
              "40           Fantasy   1556\n",
              "112              nan    999\n",
              "71        Nonfiction    783\n",
              "111      Young Adult    709\n",
              "49        Historical    657\n",
              "66           Mystery    467\n",
              "88           Romance    434\n",
              "90   Science Fiction    346\n",
              "50           History    322"
            ]
          },
          "metadata": {},
          "execution_count": 11
        }
      ]
    },
    {
      "cell_type": "code",
      "metadata": {
        "colab": {
          "base_uri": "https://localhost:8080/",
          "height": 398
        },
        "id": "OGt19r64v8bR",
        "outputId": "0e250a04-6648-4f9e-c81d-e2ce936fbdd9"
      },
      "source": [
        "# Pembuatan diagram batang persebaran genre buku\n",
        "plt.figure(figsize=(20,6))\n",
        "plt.title('Top 10 Book Genres')\n",
        "sns.barplot(x=\"genre\", y=\"title\", data=df_visual_genres, palette='icefire_r')\n",
        "plt.show()"
      ],
      "execution_count": 12,
      "outputs": [
        {
          "output_type": "display_data",
          "data": {
            "image/png": "[encoded data removed]",
            "text/plain": [
              "<Figure size 1440x432 with 1 Axes>"
            ]
          },
          "metadata": {
            "needs_background": "light"
          }
        }
      ]
    },
    {
      "cell_type": "markdown",
      "metadata": {
        "id": "AJP4S8qT1_Fp"
      },
      "source": [
        "# **Data Preparation**"
      ]
    },
    {
      "cell_type": "markdown",
      "metadata": {
        "id": "UwsIkpoo2-GZ"
      },
      "source": [
        "Langkah langkah yang dilakukan : \n",
        "* Menghilangkan null values\n",
        "* Menghilangkan data dengan genre 'nan'\n",
        "* Menghilangkan data duplikat\n",
        "* One-Hot Encoding Proses ini digunakan untuk cosine similarity. Pertama saya membuat one hot encoding pada genre karena setiap film mempunyai jumlah genre yang berbeda dan genre yang bervariasi. Saya membuat kolom baru untuk setiap nilai genre yang terdapat dalam kolom genres."
      ]
    },
    {
      "cell_type": "markdown",
      "metadata": {
        "id": "o8-DLRsirXNc"
      },
      "source": [
        "Dari diagram tersebut, kita dapat informasi bahwa terdapat hampir 1000 buku yang tidak memiliki genre (nan). Oleh karena itu, perlu dilakukan penghapusan null values"
      ]
    },
    {
      "cell_type": "markdown",
      "metadata": {
        "id": "T52wb735tv6K"
      },
      "source": [
        "### Penghapusan null values"
      ]
    },
    {
      "cell_type": "code",
      "metadata": {
        "id": "0-1ZQrEh2qXf",
        "colab": {
          "base_uri": "https://localhost:8080/"
        },
        "outputId": "c6dad786-5e1f-42a7-d87e-0bc25ee64843"
      },
      "source": [
        "df_book_list['genre'].dropna(axis=0, inplace=True)\n",
        "df_book_list['title'].dropna(axis=0, inplace=True)\n",
        "\n",
        "# Penghapusan buku dengan kategori nan\n",
        "df_book_list.drop(df_book_list.loc[df_book_list['genre']== 'nan'].index, inplace=True)\n",
        "print(\"Setelah penghapusan null values : {}\".format(df_book_list.shape)) "
      ],
      "execution_count": 13,
      "outputs": [
        {
          "output_type": "stream",
          "name": "stdout",
          "text": [
            "Setelah penghapusan null values : (9019, 14)\n"
          ]
        }
      ]
    },
    {
      "cell_type": "markdown",
      "metadata": {
        "id": "wqG2ihvmuHAf"
      },
      "source": [
        "### Penghapusan data duplikat"
      ]
    },
    {
      "cell_type": "code",
      "metadata": {
        "colab": {
          "base_uri": "https://localhost:8080/"
        },
        "id": "uJbHRnbT3Yf5",
        "outputId": "896da7ca-abcf-406a-88dc-14c6db776156"
      },
      "source": [
        "df_book_list.drop_duplicates(subset=['title'], keep='first', inplace=True)\n",
        "print(\"Setelah penghapusan duplikat data : {}\".format(df_book_list.shape)) "
      ],
      "execution_count": 14,
      "outputs": [
        {
          "output_type": "stream",
          "name": "stdout",
          "text": [
            "Setelah penghapusan duplikat data : (8140, 14)\n"
          ]
        }
      ]
    },
    {
      "cell_type": "code",
      "metadata": {
        "colab": {
          "base_uri": "https://localhost:8080/"
        },
        "id": "_ndJpsNq2Rfm",
        "outputId": "24a7332e-9062-4d1d-c23f-a44eb9ad94e9"
      },
      "source": [
        "check_duplicates = df_book_list[df_book_list.duplicated()]\n",
        "print(check_duplicates)"
      ],
      "execution_count": 15,
      "outputs": [
        {
          "output_type": "stream",
          "name": "stdout",
          "text": [
            "Empty DataFrame\n",
            "Columns: [id, title, series, author, book_link, genre, date_published, publisher, num_of_page, lang, review_count, rating_count, rate, award]\n",
            "Index: []\n"
          ]
        }
      ]
    },
    {
      "cell_type": "markdown",
      "metadata": {
        "id": "bTrjjzdhuM3a"
      },
      "source": [
        "### Pemilihan fitur yang signifikan dalam Content Based Filtering"
      ]
    },
    {
      "cell_type": "code",
      "metadata": {
        "colab": {
          "base_uri": "https://localhost:8080/",
          "height": 206
        },
        "id": "rvxcXspD31rj",
        "outputId": "aea2977f-e553-442c-f857-d9129dc5ef2a"
      },
      "source": [
        "df_book_cleaned = df_book_list[['title', 'rate', 'genre', 'id']]\n",
        "df_book_cleaned.head()"
      ],
      "execution_count": 16,
      "outputs": [
        {
          "output_type": "execute_result",
          "data": {
            "text/html": [
              "<div>\n",
              "<style scoped>\n",
              "    .dataframe tbody tr th:only-of-type {\n",
              "        vertical-align: middle;\n",
              "    }\n",
              "\n",
              "    .dataframe tbody tr th {\n",
              "        vertical-align: top;\n",
              "    }\n",
              "\n",
              "    .dataframe thead th {\n",
              "        text-align: right;\n",
              "    }\n",
              "</style>\n",
              "<table border=\"1\" class=\"dataframe\">\n",
              "  <thead>\n",
              "    <tr style=\"text-align: right;\">\n",
              "      <th></th>\n",
              "      <th>title</th>\n",
              "      <th>rate</th>\n",
              "      <th>genre</th>\n",
              "      <th>id</th>\n",
              "    </tr>\n",
              "  </thead>\n",
              "  <tbody>\n",
              "    <tr>\n",
              "      <th>0</th>\n",
              "      <td>The Martian</td>\n",
              "      <td>4.40</td>\n",
              "      <td>Science Fiction</td>\n",
              "      <td>0</td>\n",
              "    </tr>\n",
              "    <tr>\n",
              "      <th>1</th>\n",
              "      <td>Under the Banner of Heaven: A Story of Violent...</td>\n",
              "      <td>3.98</td>\n",
              "      <td>Nonfiction</td>\n",
              "      <td>1</td>\n",
              "    </tr>\n",
              "    <tr>\n",
              "      <th>2</th>\n",
              "      <td>Cutting for Stone</td>\n",
              "      <td>4.29</td>\n",
              "      <td>Fiction</td>\n",
              "      <td>2</td>\n",
              "    </tr>\n",
              "    <tr>\n",
              "      <th>3</th>\n",
              "      <td>We Need to Talk About Kevin</td>\n",
              "      <td>4.04</td>\n",
              "      <td>Fiction</td>\n",
              "      <td>3</td>\n",
              "    </tr>\n",
              "    <tr>\n",
              "      <th>4</th>\n",
              "      <td>The Immortal Life of Henrietta Lacks</td>\n",
              "      <td>4.07</td>\n",
              "      <td>Nonfiction</td>\n",
              "      <td>4</td>\n",
              "    </tr>\n",
              "  </tbody>\n",
              "</table>\n",
              "</div>"
            ],
            "text/plain": [
              "                                               title  rate            genre  id\n",
              "0                                        The Martian  4.40  Science Fiction   0\n",
              "1  Under the Banner of Heaven: A Story of Violent...  3.98       Nonfiction   1\n",
              "2                                  Cutting for Stone  4.29          Fiction   2\n",
              "3                        We Need to Talk About Kevin  4.04          Fiction   3\n",
              "4               The Immortal Life of Henrietta Lacks  4.07       Nonfiction   4"
            ]
          },
          "metadata": {},
          "execution_count": 16
        }
      ]
    },
    {
      "cell_type": "markdown",
      "metadata": {
        "id": "exa_ajf8J9QV"
      },
      "source": [
        "# Content-Based Filtering\n"
      ]
    },
    {
      "cell_type": "markdown",
      "metadata": {
        "id": "SbtvU8L7uZq-"
      },
      "source": [
        "#### TF-IDF Vectorizer"
      ]
    },
    {
      "cell_type": "code",
      "metadata": {
        "colab": {
          "base_uri": "https://localhost:8080/"
        },
        "id": "49BbTAVPKZ5v",
        "outputId": "3a61ef2c-b16d-47c1-a0f0-eebcd9f87a95"
      },
      "source": [
        "# Data preparation untuk Cosine Similarity\n",
        "tf = TfidfVectorizer(stop_words='english')\n",
        "\n",
        "# Melakukan perhitungan idf pada data book\n",
        "tf.fit(df_book_cleaned['genre']) \n",
        " \n",
        "# Mapping array dari fitur index integer ke fitur nama\n",
        "tf.get_feature_names()"
      ],
      "execution_count": 17,
      "outputs": [
        {
          "output_type": "stream",
          "name": "stderr",
          "text": [
            "/usr/local/lib/python3.7/dist-packages/sklearn/utils/deprecation.py:87: FutureWarning: Function get_feature_names is deprecated; get_feature_names is deprecated in 1.0 and will be removed in 1.2. Please use get_feature_names_out instead.\n",
            "  warnings.warn(msg, category=FutureWarning)\n"
          ]
        },
        {
          "output_type": "execute_result",
          "data": {
            "text/plain": [
              "['academic',\n",
              " 'adult',\n",
              " 'adventure',\n",
              " 'africa',\n",
              " 'american',\n",
              " 'amish',\n",
              " 'animals',\n",
              " 'apocalyptic',\n",
              " 'architecture',\n",
              " 'art',\n",
              " 'artificial',\n",
              " 'asian',\n",
              " 'autobiography',\n",
              " 'aviation',\n",
              " 'biography',\n",
              " 'business',\n",
              " 'childrens',\n",
              " 'christian',\n",
              " 'christianity',\n",
              " 'cities',\n",
              " 'classics',\n",
              " 'computer',\n",
              " 'contemporary',\n",
              " 'crime',\n",
              " 'criticism',\n",
              " 'cultural',\n",
              " 'culture',\n",
              " 'dark',\n",
              " 'death',\n",
              " 'design',\n",
              " 'dragons',\n",
              " 'drama',\n",
              " 'drink',\n",
              " 'dungeons',\n",
              " 'eastern',\n",
              " 'economics',\n",
              " 'education',\n",
              " 'environment',\n",
              " 'epic',\n",
              " 'erotica',\n",
              " 'european',\n",
              " 'family',\n",
              " 'fan',\n",
              " 'fantasy',\n",
              " 'feminism',\n",
              " 'fiction',\n",
              " 'folklore',\n",
              " 'food',\n",
              " 'football',\n",
              " 'games',\n",
              " 'gothic',\n",
              " 'health',\n",
              " 'help',\n",
              " 'hi',\n",
              " 'historical',\n",
              " 'history',\n",
              " 'holiday',\n",
              " 'horror',\n",
              " 'horticulture',\n",
              " 'humanities',\n",
              " 'humor',\n",
              " 'ii',\n",
              " 'inspirational',\n",
              " 'intelligence',\n",
              " 'labor',\n",
              " 'language',\n",
              " 'leadership',\n",
              " 'lgbt',\n",
              " 'literature',\n",
              " 'marriage',\n",
              " 'media',\n",
              " 'medical',\n",
              " 'music',\n",
              " 'mystery',\n",
              " 'mythology',\n",
              " 'neurodiversity',\n",
              " 'new',\n",
              " 'nonfiction',\n",
              " 'north',\n",
              " 'northern',\n",
              " 'novels',\n",
              " 'paranormal',\n",
              " 'parenting',\n",
              " 'philosophy',\n",
              " 'plays',\n",
              " 'poetry',\n",
              " 'politics',\n",
              " 'polyamorous',\n",
              " 'prayer',\n",
              " 'pseudoscience',\n",
              " 'psychology',\n",
              " 'realistic',\n",
              " 'reference',\n",
              " 'religion',\n",
              " 'romance',\n",
              " 'science',\n",
              " 'self',\n",
              " 'sequential',\n",
              " 'sexuality',\n",
              " 'shapeshifters',\n",
              " 'short',\n",
              " 'social',\n",
              " 'sociology',\n",
              " 'spirituality',\n",
              " 'sports',\n",
              " 'stories',\n",
              " 'superheroes',\n",
              " 'suspense',\n",
              " 'teaching',\n",
              " 'thriller',\n",
              " 'tie',\n",
              " 'travel',\n",
              " 'urban',\n",
              " 'war',\n",
              " 'womens',\n",
              " 'world',\n",
              " 'writing',\n",
              " 'york',\n",
              " 'young']"
            ]
          },
          "metadata": {},
          "execution_count": 17
        }
      ]
    },
    {
      "cell_type": "markdown",
      "metadata": {
        "id": "UTIBxhLpsXWb"
      },
      "source": [
        "#### Transform data"
      ]
    },
    {
      "cell_type": "code",
      "metadata": {
        "colab": {
          "base_uri": "https://localhost:8080/"
        },
        "id": "Mq5sO2K1KbtX",
        "outputId": "aec8b715-7f9a-4dff-9e2e-d5cf7191e72d"
      },
      "source": [
        "tfidf_matrix = tf.fit_transform(df_book_cleaned['genre']) \n",
        "tfidf_matrix.shape"
      ],
      "execution_count": 18,
      "outputs": [
        {
          "output_type": "execute_result",
          "data": {
            "text/plain": [
              "(8140, 119)"
            ]
          },
          "metadata": {},
          "execution_count": 18
        }
      ]
    },
    {
      "cell_type": "markdown",
      "metadata": {
        "id": "cMxozyI2sZxF"
      },
      "source": [
        "#### Proses Perhitungan Cosine Similarity"
      ]
    },
    {
      "cell_type": "code",
      "metadata": {
        "colab": {
          "base_uri": "https://localhost:8080/"
        },
        "id": "_PzweirLKico",
        "outputId": "9c3036ae-facd-4f93-ed06-8c6f00606e3a"
      },
      "source": [
        "cosine_sim = cosine_similarity(tfidf_matrix)\n",
        "print(cosine_sim.shape)\n",
        "cosine_sim"
      ],
      "execution_count": 19,
      "outputs": [
        {
          "output_type": "stream",
          "name": "stdout",
          "text": [
            "(8140, 8140)\n"
          ]
        },
        {
          "output_type": "execute_result",
          "data": {
            "text/plain": [
              "array([[1.        , 0.        , 0.52326972, ..., 0.        , 0.        ,\n",
              "        0.        ],\n",
              "       [0.        , 1.        , 0.        , ..., 0.        , 0.        ,\n",
              "        0.        ],\n",
              "       [0.52326972, 0.        , 1.        , ..., 0.        , 0.        ,\n",
              "        0.        ],\n",
              "       ...,\n",
              "       [0.        , 0.        , 0.        , ..., 1.        , 0.        ,\n",
              "        0.        ],\n",
              "       [0.        , 0.        , 0.        , ..., 0.        , 1.        ,\n",
              "        0.        ],\n",
              "       [0.        , 0.        , 0.        , ..., 0.        , 0.        ,\n",
              "        1.        ]])"
            ]
          },
          "metadata": {},
          "execution_count": 19
        }
      ]
    },
    {
      "cell_type": "markdown",
      "metadata": {
        "id": "It2g8y13seEf"
      },
      "source": [
        "#### Pembuatan Dataframe baru hasil cosine similarity"
      ]
    },
    {
      "cell_type": "code",
      "metadata": {
        "colab": {
          "base_uri": "https://localhost:8080/",
          "height": 950
        },
        "id": "x6WeJ4zfKkgG",
        "outputId": "d07cde03-e0b9-4ede-a4a9-b5796b54730a"
      },
      "source": [
        "cosine_sim_df = pd.DataFrame(cosine_sim, index=df_book_cleaned['title'],\n",
        "                             columns=df_book_cleaned['title'])\n",
        "print('Size dataframe:', cosine_sim_df.shape)\n",
        "\n",
        "# Melihat similarity matrix tiap buku\n",
        "cosine_sim_df.sample(10, axis=1).sample(10, axis=0)"
      ],
      "execution_count": 20,
      "outputs": [
        {
          "output_type": "stream",
          "name": "stdout",
          "text": [
            "Size dataframe: (8140, 8140)\n"
          ]
        },
        {
          "output_type": "execute_result",
          "data": {
            "text/html": [
              "<div>\n",
              "<style scoped>\n",
              "    .dataframe tbody tr th:only-of-type {\n",
              "        vertical-align: middle;\n",
              "    }\n",
              "\n",
              "    .dataframe tbody tr th {\n",
              "        vertical-align: top;\n",
              "    }\n",
              "\n",
              "    .dataframe thead th {\n",
              "        text-align: right;\n",
              "    }\n",
              "</style>\n",
              "<table border=\"1\" class=\"dataframe\">\n",
              "  <thead>\n",
              "    <tr style=\"text-align: right;\">\n",
              "      <th>title</th>\n",
              "      <th>Queen of Air and Darkness (The Dark Artifices, #3)</th>\n",
              "      <th>The Likeness (Dublin Murder Squad, #2)</th>\n",
              "      <th>Thud! (Discworld, #34; City Watch #7)</th>\n",
              "      <th>Love Walked In (Love Walked In, #1)</th>\n",
              "      <th>To the Nines (Stephanie Plum, #9)</th>\n",
              "      <th>City of Souls (Signs of the Zodiac, #4)</th>\n",
              "      <th>Stories I Stole</th>\n",
              "      <th>One Crazy Summer (Gaither Sisters, #1)</th>\n",
              "      <th>Why Fish Fart: Gross but True Things You'll Wish You Didn't Know</th>\n",
              "      <th>109 East Palace: Robert Oppenheimer and the Secret City of Los Alamos</th>\n",
              "    </tr>\n",
              "    <tr>\n",
              "      <th>title</th>\n",
              "      <th></th>\n",
              "      <th></th>\n",
              "      <th></th>\n",
              "      <th></th>\n",
              "      <th></th>\n",
              "      <th></th>\n",
              "      <th></th>\n",
              "      <th></th>\n",
              "      <th></th>\n",
              "      <th></th>\n",
              "    </tr>\n",
              "  </thead>\n",
              "  <tbody>\n",
              "    <tr>\n",
              "      <th>The Other Wes Moore: One Name, Two Fates</th>\n",
              "      <td>0.0</td>\n",
              "      <td>0.0</td>\n",
              "      <td>0.0</td>\n",
              "      <td>0.0</td>\n",
              "      <td>0.0</td>\n",
              "      <td>0.0</td>\n",
              "      <td>0.0</td>\n",
              "      <td>0.0</td>\n",
              "      <td>0.0</td>\n",
              "      <td>0.0</td>\n",
              "    </tr>\n",
              "    <tr>\n",
              "      <th>Forever ME</th>\n",
              "      <td>0.0</td>\n",
              "      <td>0.0</td>\n",
              "      <td>0.0</td>\n",
              "      <td>0.0</td>\n",
              "      <td>0.0</td>\n",
              "      <td>0.0</td>\n",
              "      <td>0.0</td>\n",
              "      <td>0.0</td>\n",
              "      <td>0.0</td>\n",
              "      <td>0.0</td>\n",
              "    </tr>\n",
              "    <tr>\n",
              "      <th>We Never Asked for Wings</th>\n",
              "      <td>0.0</td>\n",
              "      <td>0.0</td>\n",
              "      <td>0.0</td>\n",
              "      <td>1.0</td>\n",
              "      <td>0.0</td>\n",
              "      <td>0.0</td>\n",
              "      <td>0.0</td>\n",
              "      <td>0.0</td>\n",
              "      <td>0.0</td>\n",
              "      <td>0.0</td>\n",
              "    </tr>\n",
              "    <tr>\n",
              "      <th>Eona: The Last Dragoneye (Eon, #2)</th>\n",
              "      <td>1.0</td>\n",
              "      <td>0.0</td>\n",
              "      <td>1.0</td>\n",
              "      <td>0.0</td>\n",
              "      <td>0.0</td>\n",
              "      <td>1.0</td>\n",
              "      <td>0.0</td>\n",
              "      <td>0.0</td>\n",
              "      <td>0.0</td>\n",
              "      <td>0.0</td>\n",
              "    </tr>\n",
              "    <tr>\n",
              "      <th>The Man Who Broke Into Auschwitz: A True Story of World War II</th>\n",
              "      <td>0.0</td>\n",
              "      <td>0.0</td>\n",
              "      <td>0.0</td>\n",
              "      <td>0.0</td>\n",
              "      <td>0.0</td>\n",
              "      <td>0.0</td>\n",
              "      <td>0.0</td>\n",
              "      <td>0.0</td>\n",
              "      <td>0.0</td>\n",
              "      <td>0.0</td>\n",
              "    </tr>\n",
              "    <tr>\n",
              "      <th>The Way of Shadows (Night Angel, #1)</th>\n",
              "      <td>1.0</td>\n",
              "      <td>0.0</td>\n",
              "      <td>1.0</td>\n",
              "      <td>0.0</td>\n",
              "      <td>0.0</td>\n",
              "      <td>1.0</td>\n",
              "      <td>0.0</td>\n",
              "      <td>0.0</td>\n",
              "      <td>0.0</td>\n",
              "      <td>0.0</td>\n",
              "    </tr>\n",
              "    <tr>\n",
              "      <th>Evil at Heart (Archie Sheridan &amp; Gretchen Lowell, #3)</th>\n",
              "      <td>0.0</td>\n",
              "      <td>1.0</td>\n",
              "      <td>0.0</td>\n",
              "      <td>0.0</td>\n",
              "      <td>1.0</td>\n",
              "      <td>0.0</td>\n",
              "      <td>0.0</td>\n",
              "      <td>0.0</td>\n",
              "      <td>0.0</td>\n",
              "      <td>0.0</td>\n",
              "    </tr>\n",
              "    <tr>\n",
              "      <th>Your Next Breath (Catherine Ling, #4)</th>\n",
              "      <td>0.0</td>\n",
              "      <td>1.0</td>\n",
              "      <td>0.0</td>\n",
              "      <td>0.0</td>\n",
              "      <td>1.0</td>\n",
              "      <td>0.0</td>\n",
              "      <td>0.0</td>\n",
              "      <td>0.0</td>\n",
              "      <td>0.0</td>\n",
              "      <td>0.0</td>\n",
              "    </tr>\n",
              "    <tr>\n",
              "      <th>Cloud of Sparrows</th>\n",
              "      <td>0.0</td>\n",
              "      <td>0.0</td>\n",
              "      <td>0.0</td>\n",
              "      <td>0.0</td>\n",
              "      <td>0.0</td>\n",
              "      <td>0.0</td>\n",
              "      <td>0.0</td>\n",
              "      <td>1.0</td>\n",
              "      <td>0.0</td>\n",
              "      <td>0.0</td>\n",
              "    </tr>\n",
              "    <tr>\n",
              "      <th>Access To Power</th>\n",
              "      <td>0.0</td>\n",
              "      <td>1.0</td>\n",
              "      <td>0.0</td>\n",
              "      <td>0.0</td>\n",
              "      <td>1.0</td>\n",
              "      <td>0.0</td>\n",
              "      <td>0.0</td>\n",
              "      <td>0.0</td>\n",
              "      <td>0.0</td>\n",
              "      <td>0.0</td>\n",
              "    </tr>\n",
              "  </tbody>\n",
              "</table>\n",
              "</div>"
            ],
            "text/plain": [
              "title                                               Queen of Air and Darkness (The Dark Artifices, #3)  ...  109 East Palace: Robert Oppenheimer and the Secret City of Los Alamos\n",
              "title                                                                                                   ...                                                                       \n",
              "The Other Wes Moore: One Name, Two Fates                                                          0.0   ...                                                0.0                    \n",
              "Forever ME                                                                                        0.0   ...                                                0.0                    \n",
              "We Never Asked for Wings                                                                          0.0   ...                                                0.0                    \n",
              "Eona: The Last Dragoneye (Eon, #2)                                                                1.0   ...                                                0.0                    \n",
              "The Man Who Broke Into Auschwitz: A True Story ...                                                0.0   ...                                                0.0                    \n",
              "The Way of Shadows (Night Angel, #1)                                                              1.0   ...                                                0.0                    \n",
              "Evil at Heart (Archie Sheridan & Gretchen Lowel...                                                0.0   ...                                                0.0                    \n",
              "Your Next Breath (Catherine Ling, #4)                                                             0.0   ...                                                0.0                    \n",
              "Cloud of Sparrows                                                                                 0.0   ...                                                0.0                    \n",
              "Access To Power                                                                                   0.0   ...                                                0.0                    \n",
              "\n",
              "[10 rows x 10 columns]"
            ]
          },
          "metadata": {},
          "execution_count": 20
        }
      ]
    },
    {
      "cell_type": "markdown",
      "metadata": {
        "id": "eh0IyKVkKxOh"
      },
      "source": [
        "# Recommendation Result for Content-Based Filtering"
      ]
    },
    {
      "cell_type": "markdown",
      "metadata": {
        "id": "69Zpwrlesqw8"
      },
      "source": [
        "#### Pembuatan fungsi baru untuk merekomendasikan 10 buku yang sejenis"
      ]
    },
    {
      "cell_type": "code",
      "metadata": {
        "id": "rTR5K0miKw6u"
      },
      "source": [
        "def BookRecommendations(book_title, similarity_data=cosine_sim_df, \n",
        "                         items=df_book_cleaned[[\"id\",\"title\",\"genre\"]], k=10):\n",
        "  \n",
        "    ''' Mengambil data menggunakan argpartition untuk partisi secara tidak langsung,\n",
        "    sepanjang sumbu yang diberikan, kemudian dataframe diubah menjadi numpy Range \n",
        "    dengan parameter sebagai berikut (start, stop, step) '''\n",
        "    index = similarity_data.loc[:, book_title].to_numpy().argpartition(\n",
        "        range(-1, -k, -1)\n",
        "    )\n",
        "\n",
        "    # Mengambil data dengan similarity terbesar dari index yang ada\n",
        "    closest = similarity_data.columns[index[-1:-(k+2):-1]]\n",
        "\n",
        "    # Drop book_title agar nama buku yang dicari tidak muncul dalam daftar rekomendasi\n",
        "    closest = closest.drop(book_title, errors='ignore')\n",
        "\n",
        "    return pd.DataFrame(closest).merge(items).head(k)"
      ],
      "execution_count": 21,
      "outputs": []
    },
    {
      "cell_type": "markdown",
      "metadata": {
        "id": "VZwsFnkgOUHX"
      },
      "source": [
        "#### Pengujian data dengan menggunakan buku berjudul 'Wartime Farm'.\n",
        "Dapat dilihat bahwa buku 'Wartime Farm' bergenre 'History'"
      ]
    },
    {
      "cell_type": "code",
      "metadata": {
        "colab": {
          "base_uri": "https://localhost:8080/",
          "height": 81
        },
        "id": "ZCt__85GK6xJ",
        "outputId": "6daf35a4-d109-42f2-af63-688d540d85ec"
      },
      "source": [
        "# Check data lengkap sebuah title \n",
        "find_title = df_book_cleaned[df_book_cleaned['title'] == 'Wartime Farm']\n",
        "find_title"
      ],
      "execution_count": 22,
      "outputs": [
        {
          "output_type": "execute_result",
          "data": {
            "text/html": [
              "<div>\n",
              "<style scoped>\n",
              "    .dataframe tbody tr th:only-of-type {\n",
              "        vertical-align: middle;\n",
              "    }\n",
              "\n",
              "    .dataframe tbody tr th {\n",
              "        vertical-align: top;\n",
              "    }\n",
              "\n",
              "    .dataframe thead th {\n",
              "        text-align: right;\n",
              "    }\n",
              "</style>\n",
              "<table border=\"1\" class=\"dataframe\">\n",
              "  <thead>\n",
              "    <tr style=\"text-align: right;\">\n",
              "      <th></th>\n",
              "      <th>title</th>\n",
              "      <th>rate</th>\n",
              "      <th>genre</th>\n",
              "      <th>id</th>\n",
              "    </tr>\n",
              "  </thead>\n",
              "  <tbody>\n",
              "    <tr>\n",
              "      <th>5732</th>\n",
              "      <td>Wartime Farm</td>\n",
              "      <td>4.36</td>\n",
              "      <td>History</td>\n",
              "      <td>5732</td>\n",
              "    </tr>\n",
              "  </tbody>\n",
              "</table>\n",
              "</div>"
            ],
            "text/plain": [
              "             title  rate    genre    id\n",
              "5732  Wartime Farm  4.36  History  5732"
            ]
          },
          "metadata": {},
          "execution_count": 22
        }
      ]
    },
    {
      "cell_type": "markdown",
      "metadata": {
        "id": "2-AW7VS-tBKO"
      },
      "source": [
        "#### Rekomendasi buku yang serupa dengan 'Wartime Farm'"
      ]
    },
    {
      "cell_type": "code",
      "metadata": {
        "colab": {
          "base_uri": "https://localhost:8080/",
          "height": 363
        },
        "id": "XAlyUApiLAko",
        "outputId": "b2518d36-b2f0-46ef-9a78-5b67b54cafa4"
      },
      "source": [
        "book_suggestion = BookRecommendations(book_title = 'Wartime Farm')\n",
        "book_suggestion"
      ],
      "execution_count": 23,
      "outputs": [
        {
          "output_type": "execute_result",
          "data": {
            "text/html": [
              "<div>\n",
              "<style scoped>\n",
              "    .dataframe tbody tr th:only-of-type {\n",
              "        vertical-align: middle;\n",
              "    }\n",
              "\n",
              "    .dataframe tbody tr th {\n",
              "        vertical-align: top;\n",
              "    }\n",
              "\n",
              "    .dataframe thead th {\n",
              "        text-align: right;\n",
              "    }\n",
              "</style>\n",
              "<table border=\"1\" class=\"dataframe\">\n",
              "  <thead>\n",
              "    <tr style=\"text-align: right;\">\n",
              "      <th></th>\n",
              "      <th>title</th>\n",
              "      <th>id</th>\n",
              "      <th>genre</th>\n",
              "    </tr>\n",
              "  </thead>\n",
              "  <tbody>\n",
              "    <tr>\n",
              "      <th>0</th>\n",
              "      <td>The Swerve: How the World Became Modern</td>\n",
              "      <td>1951</td>\n",
              "      <td>History</td>\n",
              "    </tr>\n",
              "    <tr>\n",
              "      <th>1</th>\n",
              "      <td>Caught in the Revolution: Petrograd, Russia, 1...</td>\n",
              "      <td>9029</td>\n",
              "      <td>History</td>\n",
              "    </tr>\n",
              "    <tr>\n",
              "      <th>2</th>\n",
              "      <td>Rough Crossings: Britain, the Slaves and the A...</td>\n",
              "      <td>9022</td>\n",
              "      <td>History</td>\n",
              "    </tr>\n",
              "    <tr>\n",
              "      <th>3</th>\n",
              "      <td>Cobra II: The Inside Story of the Invasion and...</td>\n",
              "      <td>6577</td>\n",
              "      <td>History</td>\n",
              "    </tr>\n",
              "    <tr>\n",
              "      <th>4</th>\n",
              "      <td>The Fall of Berlin 1945</td>\n",
              "      <td>1856</td>\n",
              "      <td>History</td>\n",
              "    </tr>\n",
              "    <tr>\n",
              "      <th>5</th>\n",
              "      <td>Wine and War: The French, the Nazis, and the B...</td>\n",
              "      <td>8987</td>\n",
              "      <td>History</td>\n",
              "    </tr>\n",
              "    <tr>\n",
              "      <th>6</th>\n",
              "      <td>Born Fighting: How the Scots-Irish Shaped America</td>\n",
              "      <td>6544</td>\n",
              "      <td>History</td>\n",
              "    </tr>\n",
              "    <tr>\n",
              "      <th>7</th>\n",
              "      <td>Napoleon: A Life</td>\n",
              "      <td>1920</td>\n",
              "      <td>History</td>\n",
              "    </tr>\n",
              "    <tr>\n",
              "      <th>8</th>\n",
              "      <td>The Devil's Chessboard: Allen Dulles, the CIA,...</td>\n",
              "      <td>6617</td>\n",
              "      <td>History</td>\n",
              "    </tr>\n",
              "    <tr>\n",
              "      <th>9</th>\n",
              "      <td>The Republic of Pirates: Being the True and Su...</td>\n",
              "      <td>8978</td>\n",
              "      <td>History</td>\n",
              "    </tr>\n",
              "  </tbody>\n",
              "</table>\n",
              "</div>"
            ],
            "text/plain": [
              "                                               title    id    genre\n",
              "0            The Swerve: How the World Became Modern  1951  History\n",
              "1  Caught in the Revolution: Petrograd, Russia, 1...  9029  History\n",
              "2  Rough Crossings: Britain, the Slaves and the A...  9022  History\n",
              "3  Cobra II: The Inside Story of the Invasion and...  6577  History\n",
              "4                            The Fall of Berlin 1945  1856  History\n",
              "5  Wine and War: The French, the Nazis, and the B...  8987  History\n",
              "6  Born Fighting: How the Scots-Irish Shaped America  6544  History\n",
              "7                                   Napoleon: A Life  1920  History\n",
              "8  The Devil's Chessboard: Allen Dulles, the CIA,...  6617  History\n",
              "9  The Republic of Pirates: Being the True and Su...  8978  History"
            ]
          },
          "metadata": {},
          "execution_count": 23
        }
      ]
    }
  ]
}